{
 "cells": [
  {
   "cell_type": "code",
   "execution_count": 1,
   "metadata": {},
   "outputs": [],
   "source": [
    "import numpy as np\n",
    "import os\n",
    "import glob\n",
    "os.chdir( \"C:\\\\tim209\\\\filtered by category\" )"
   ]
  },
  {
   "cell_type": "code",
   "execution_count": 2,
   "metadata": {},
   "outputs": [
    {
     "name": "stdout",
     "output_type": "stream",
     "text": [
      "Found output dir C:\\tim209\\filtered by category\\output\\\n"
     ]
    }
   ],
   "source": [
    "imDir = \"C:\\\\tim209\\\\filtered by category\\\\\"\n",
    "outputDir = \"C:\\\\tim209\\\\filtered by category\\\\output\\\\\"\n",
    "\n",
    "samplesPerCategory = 50000\n",
    "\n",
    "if os.path.isdir( outputDir ) == False : \n",
    "    try:\n",
    "        os.mkdir( outputDir )\n",
    "    except OSError:\n",
    "        print( \"Failed to create output directory:\", outputDir )\n",
    "    else:\n",
    "        print( \"Created output directory:\", outputDir )\n",
    "else:\n",
    "    print( \"Found output dir\", outputDir )\n",
    "files = glob.glob( imDir + \"*.npy\" )"
   ]
  },
  {
   "cell_type": "code",
   "execution_count": 3,
   "metadata": {},
   "outputs": [],
   "source": [
    "labels = list()\n",
    "for path in files:\n",
    "    arr = path.split( \"%2\" )\n",
    "    label = arr[-1].replace( \".npy\", \"\" )[1:]\n",
    "    #print( label )\n",
    "    labels.append( ( label, path ) )"
   ]
  },
  {
   "cell_type": "code",
   "execution_count": 4,
   "metadata": {},
   "outputs": [
    {
     "data": {
      "text/plain": [
       "20"
      ]
     },
     "execution_count": 4,
     "metadata": {},
     "output_type": "execute_result"
    }
   ],
   "source": [
    "len( labels )"
   ]
  },
  {
   "cell_type": "code",
   "execution_count": 5,
   "metadata": {},
   "outputs": [
    {
     "name": "stdout",
     "output_type": "stream",
     "text": [
      "Processing aircraft carrier C:\\tim209\\filtered by category\\full%2Fnumpy_bitmap%2Faircraft carrier.npy\n",
      "(50000, 784)\n",
      "Processing airplane C:\\tim209\\filtered by category\\full%2Fnumpy_bitmap%2Fairplane.npy\n",
      "(50000, 784)\n",
      "Processing alarm clock C:\\tim209\\filtered by category\\full%2Fnumpy_bitmap%2Falarm clock.npy\n",
      "(50000, 784)\n",
      "Processing ambulance C:\\tim209\\filtered by category\\full%2Fnumpy_bitmap%2Fambulance.npy\n",
      "(50000, 784)\n",
      "Processing angel C:\\tim209\\filtered by category\\full%2Fnumpy_bitmap%2Fangel.npy\n",
      "(50000, 784)\n",
      "Processing animal migration C:\\tim209\\filtered by category\\full%2Fnumpy_bitmap%2Fanimal migration.npy\n",
      "(50000, 784)\n",
      "Processing ant C:\\tim209\\filtered by category\\full%2Fnumpy_bitmap%2Fant.npy\n",
      "(50000, 784)\n",
      "Processing anvil C:\\tim209\\filtered by category\\full%2Fnumpy_bitmap%2Fanvil.npy\n",
      "(50000, 784)\n",
      "Processing apple C:\\tim209\\filtered by category\\full%2Fnumpy_bitmap%2Fapple.npy\n",
      "(50000, 784)\n",
      "Processing arm C:\\tim209\\filtered by category\\full%2Fnumpy_bitmap%2Farm.npy\n",
      "(50000, 784)\n",
      "Processing asparagus C:\\tim209\\filtered by category\\full%2Fnumpy_bitmap%2Fasparagus.npy\n",
      "(50000, 784)\n",
      "Processing axe C:\\tim209\\filtered by category\\full%2Fnumpy_bitmap%2Faxe.npy\n",
      "(50000, 784)\n",
      "Processing backpack C:\\tim209\\filtered by category\\full%2Fnumpy_bitmap%2Fbackpack.npy\n",
      "(50000, 784)\n",
      "Processing bed C:\\tim209\\filtered by category\\full%2Fnumpy_bitmap%2Fbed.npy\n",
      "(50000, 784)\n",
      "Processing bench C:\\tim209\\filtered by category\\full%2Fnumpy_bitmap%2Fbench.npy\n",
      "(50000, 784)\n",
      "Processing binoculars C:\\tim209\\filtered by category\\full%2Fnumpy_bitmap%2Fbinoculars.npy\n",
      "(50000, 784)\n",
      "Processing bird C:\\tim209\\filtered by category\\full%2Fnumpy_bitmap%2Fbird.npy\n",
      "(50000, 784)\n",
      "Processing butterfly C:\\tim209\\filtered by category\\full%2Fnumpy_bitmap%2Fbutterfly.npy\n",
      "(50000, 784)\n",
      "Processing rollerskates C:\\tim209\\filtered by category\\full%2Fnumpy_bitmap%2Frollerskates.npy\n",
      "(50000, 784)\n",
      "Processing school bus C:\\tim209\\filtered by category\\full%2Fnumpy_bitmap%2Fschool bus.npy\n",
      "(50000, 784)\n"
     ]
    }
   ],
   "source": [
    "for (label, path) in labels:\n",
    "    print( \"Processing\", label, path )\n",
    "    data = np.load( path )\n",
    "    if data.shape[0] > samplesPerCategory :\n",
    "        data = data[ : samplesPerCategory ]\n",
    "    print( data.shape )\n",
    "    np.save( outputDir + label + \".npy\", data )"
   ]
  },
  {
   "cell_type": "code",
   "execution_count": null,
   "metadata": {},
   "outputs": [],
   "source": []
  }
 ],
 "metadata": {
  "kernelspec": {
   "display_name": "Python 3",
   "language": "python",
   "name": "python3"
  },
  "language_info": {
   "codemirror_mode": {
    "name": "ipython",
    "version": 3
   },
   "file_extension": ".py",
   "mimetype": "text/x-python",
   "name": "python",
   "nbconvert_exporter": "python",
   "pygments_lexer": "ipython3",
   "version": "3.6.6"
  }
 },
 "nbformat": 4,
 "nbformat_minor": 2
}
