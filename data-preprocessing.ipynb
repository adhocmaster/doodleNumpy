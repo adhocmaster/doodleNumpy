{
 "cells": [
  {
   "cell_type": "code",
   "execution_count": 1,
   "metadata": {},
   "outputs": [],
   "source": [
    "import numpy as np\n",
    "import os\n",
    "import glob\n",
    "os.chdir( \"F:\\\\myProjects\\\\tim209\\\\filtered by category\" )"
   ]
  },
  {
   "cell_type": "code",
   "execution_count": 2,
   "metadata": {},
   "outputs": [
    {
     "name": "stdout",
     "output_type": "stream",
     "text": [
      "Found output dir F:\\myProjects\\tim209\\filtered by category\\output\\\n"
     ]
    }
   ],
   "source": [
    "imDir = \"F:\\\\myProjects\\\\tim209\\\\filtered by category\\\\\"\n",
    "outputDir = \"F:\\\\myProjects\\\\tim209\\\\filtered by category\\\\output\\\\\"\n",
    "\n",
    "samplesPerCategory = 20000\n",
    "\n",
    "if os.path.isdir( outputDir ) == False : \n",
    "    try:\n",
    "        os.mkdir( outputDir )\n",
    "    except OSError:\n",
    "        print( \"Failed to create output directory:\", outputDir )\n",
    "    else:\n",
    "        print( \"Created output directory:\", outputDir )\n",
    "else:\n",
    "    print( \"Found output dir\", outputDir )\n",
    "files = glob.glob( imDir + \"*.npy\" )"
   ]
  },
  {
   "cell_type": "code",
   "execution_count": 3,
   "metadata": {},
   "outputs": [],
   "source": [
    "labels = list()\n",
    "for path in files:\n",
    "    arr = path.split( \"%2\" )\n",
    "    label = arr[-1].replace( \".npy\", \"\" )[1:]\n",
    "    #print( label )\n",
    "    labels.append( ( label, path ) )"
   ]
  },
  {
   "cell_type": "code",
   "execution_count": 4,
   "metadata": {},
   "outputs": [
    {
     "data": {
      "text/plain": [
       "10"
      ]
     },
     "execution_count": 4,
     "metadata": {},
     "output_type": "execute_result"
    }
   ],
   "source": [
    "len( labels )"
   ]
  },
  {
   "cell_type": "code",
   "execution_count": 5,
   "metadata": {},
   "outputs": [
    {
     "name": "stdout",
     "output_type": "stream",
     "text": [
      "Processing aircraft carrier F:\\myProjects\\tim209\\filtered by category\\full%2Fnumpy_bitmap%2Faircraft carrier.npy\n",
      "(20000, 784)\n",
      "Processing airplane F:\\myProjects\\tim209\\filtered by category\\full%2Fnumpy_bitmap%2Fairplane.npy\n",
      "(20000, 784)\n",
      "Processing alarm clock F:\\myProjects\\tim209\\filtered by category\\full%2Fnumpy_bitmap%2Falarm clock.npy\n",
      "(20000, 784)\n",
      "Processing ambulance F:\\myProjects\\tim209\\filtered by category\\full%2Fnumpy_bitmap%2Fambulance.npy\n",
      "(20000, 784)\n",
      "Processing angel F:\\myProjects\\tim209\\filtered by category\\full%2Fnumpy_bitmap%2Fangel.npy\n",
      "(20000, 784)\n",
      "Processing animal migration F:\\myProjects\\tim209\\filtered by category\\full%2Fnumpy_bitmap%2Fanimal migration.npy\n",
      "(20000, 784)\n",
      "Processing ant F:\\myProjects\\tim209\\filtered by category\\full%2Fnumpy_bitmap%2Fant.npy\n",
      "(20000, 784)\n",
      "Processing anvil F:\\myProjects\\tim209\\filtered by category\\full%2Fnumpy_bitmap%2Fanvil.npy\n",
      "(20000, 784)\n",
      "Processing apple F:\\myProjects\\tim209\\filtered by category\\full%2Fnumpy_bitmap%2Fapple.npy\n",
      "(20000, 784)\n",
      "Processing arm F:\\myProjects\\tim209\\filtered by category\\full%2Fnumpy_bitmap%2Farm.npy\n",
      "(20000, 784)\n"
     ]
    }
   ],
   "source": [
    "for (label, path) in labels:\n",
    "    print( \"Processing\", label, path )\n",
    "    data = np.load( path )\n",
    "    if data.shape[0] > samplesPerCategory :\n",
    "        data = data[ : samplesPerCategory ]\n",
    "    print( data.shape )\n",
    "    np.save( outputDir + label + \".npy\", data )"
   ]
  },
  {
   "cell_type": "code",
   "execution_count": null,
   "metadata": {},
   "outputs": [],
   "source": []
  }
 ],
 "metadata": {
  "kernelspec": {
   "display_name": "Python 3",
   "language": "python",
   "name": "python3"
  },
  "language_info": {
   "codemirror_mode": {
    "name": "ipython",
    "version": 3
   },
   "file_extension": ".py",
   "mimetype": "text/x-python",
   "name": "python",
   "nbconvert_exporter": "python",
   "pygments_lexer": "ipython3",
   "version": "3.6.6"
  }
 },
 "nbformat": 4,
 "nbformat_minor": 2
}
