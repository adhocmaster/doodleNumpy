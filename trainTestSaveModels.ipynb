{
 "cells": [
  {
   "cell_type": "code",
   "execution_count": 1,
   "metadata": {},
   "outputs": [
    {
     "name": "stderr",
     "output_type": "stream",
     "text": [
      "Using TensorFlow backend.\n",
      "WARNING:root:Keras dependencies loaded\n",
      "WARNING:root:dataUtils loaded\n",
      "WARNING:root:DoodleModels loaded\n"
     ]
    }
   ],
   "source": [
    "exec(open(\"initKeras.py\").read())"
   ]
  },
  {
   "cell_type": "code",
   "execution_count": 2,
   "metadata": {},
   "outputs": [
    {
     "name": "stdout",
     "output_type": "stream",
     "text": [
      "Processing aircraft carrier C:\\tim209\\filtered by category\\output\\aircraft carrier.npy\n",
      "Observation #: 50000\n",
      "label hot vectors #: 50000\n",
      "Processing airplane C:\\tim209\\filtered by category\\output\\airplane.npy\n",
      "Observation #: 50000\n",
      "label hot vectors #: 50000\n",
      "Processing alarm clock C:\\tim209\\filtered by category\\output\\alarm clock.npy\n",
      "Observation #: 50000\n",
      "label hot vectors #: 50000\n",
      "Processing ambulance C:\\tim209\\filtered by category\\output\\ambulance.npy\n",
      "Observation #: 50000\n",
      "label hot vectors #: 50000\n",
      "Processing angel C:\\tim209\\filtered by category\\output\\angel.npy\n",
      "Observation #: 50000\n",
      "label hot vectors #: 50000\n",
      "Processing animal migration C:\\tim209\\filtered by category\\output\\animal migration.npy\n",
      "Observation #: 50000\n",
      "label hot vectors #: 50000\n",
      "Processing ant C:\\tim209\\filtered by category\\output\\ant.npy\n",
      "Observation #: 50000\n",
      "label hot vectors #: 50000\n",
      "Processing anvil C:\\tim209\\filtered by category\\output\\anvil.npy\n",
      "Observation #: 50000\n",
      "label hot vectors #: 50000\n",
      "Processing apple C:\\tim209\\filtered by category\\output\\apple.npy\n",
      "Observation #: 50000\n",
      "label hot vectors #: 50000\n",
      "Processing arm C:\\tim209\\filtered by category\\output\\arm.npy\n",
      "Observation #: 50000\n",
      "label hot vectors #: 50000\n",
      "Processing asparagus C:\\tim209\\filtered by category\\output\\asparagus.npy\n",
      "Observation #: 50000\n",
      "label hot vectors #: 50000\n",
      "Processing axe C:\\tim209\\filtered by category\\output\\axe.npy\n",
      "Observation #: 50000\n",
      "label hot vectors #: 50000\n",
      "Processing backpack C:\\tim209\\filtered by category\\output\\backpack.npy\n",
      "Observation #: 50000\n",
      "label hot vectors #: 50000\n",
      "Processing bed C:\\tim209\\filtered by category\\output\\bed.npy\n",
      "Observation #: 50000\n",
      "label hot vectors #: 50000\n",
      "Processing bench C:\\tim209\\filtered by category\\output\\bench.npy\n",
      "Observation #: 50000\n",
      "label hot vectors #: 50000\n",
      "Processing binoculars C:\\tim209\\filtered by category\\output\\binoculars.npy\n",
      "Observation #: 50000\n",
      "label hot vectors #: 50000\n",
      "Processing bird C:\\tim209\\filtered by category\\output\\bird.npy\n",
      "Observation #: 50000\n",
      "label hot vectors #: 50000\n",
      "Processing butterfly C:\\tim209\\filtered by category\\output\\butterfly.npy\n",
      "Observation #: 50000\n",
      "label hot vectors #: 50000\n",
      "Processing rollerskates C:\\tim209\\filtered by category\\output\\rollerskates.npy\n",
      "Observation #: 50000\n",
      "label hot vectors #: 50000\n",
      "Processing school bus C:\\tim209\\filtered by category\\output\\school bus.npy\n",
      "Observation #: 50000\n",
      "label hot vectors #: 50000\n",
      "Processing square C:\\tim209\\filtered by category\\output\\square.npy\n",
      "Observation #: 50000\n",
      "label hot vectors #: 50000\n",
      "Processing steak C:\\tim209\\filtered by category\\output\\steak.npy\n",
      "Observation #: 50000\n",
      "label hot vectors #: 50000\n",
      "Processing stove C:\\tim209\\filtered by category\\output\\stove.npy\n",
      "Observation #: 50000\n",
      "label hot vectors #: 50000\n",
      "Processing strawberry C:\\tim209\\filtered by category\\output\\strawberry.npy\n",
      "Observation #: 50000\n",
      "label hot vectors #: 50000\n"
     ]
    }
   ],
   "source": [
    "# model numbers to retrain, set to false or blank if you want to retrain all the models in DoodleModels. Strictly a list of integers\n",
    "trainOnlyModels = [1,2,3,4,5,6,7,8]\n",
    "saveModels = True\n",
    "\n",
    "# #data preparation\n",
    "inputDir = \"C:\\\\tim209\\\\filtered by category\\\\output\\\\*.npy\"\n",
    "modelDirectory = \"F:\\\\myProjects\\\\tim209\\\\doodle\\\\savedModels\\\\\"\n",
    "modelGraphDirectory = \"F:\\\\myProjects\\\\tim209\\\\doodle\\\\experiment results\\\\\"\n",
    "dataUtils = dataUtils( inputDir )\n",
    "dataUtils.process()"
   ]
  },
  {
   "cell_type": "code",
   "execution_count": 3,
   "metadata": {},
   "outputs": [
    {
     "name": "stdout",
     "output_type": "stream",
     "text": [
      "(1200000, 784) (1200000, 24) {'aircraft carrier': 0, 'airplane': 1, 'alarm clock': 2, 'ambulance': 3, 'angel': 4, 'animal migration': 5, 'ant': 6, 'anvil': 7, 'apple': 8, 'arm': 9, 'asparagus': 10, 'axe': 11, 'backpack': 12, 'bed': 13, 'bench': 14, 'binoculars': 15, 'bird': 16, 'butterfly': 17, 'rollerskates': 18, 'school bus': 19, 'square': 20, 'steak': 21, 'stove': 22, 'strawberry': 23}\n"
     ]
    }
   ],
   "source": [
    "(images, labels, classToLevels ) = dataUtils.getData()\n",
    "(imagesR, labelsR, classToLevelsR ) = dataUtils.getRandomizedData()\n",
    "images = dataUtils.reshapeDataForKeras( images )\n",
    "imagesR = dataUtils.reshapeDataForKeras( imagesR )"
   ]
  },
  {
   "cell_type": "code",
   "execution_count": 4,
   "metadata": {},
   "outputs": [
    {
     "name": "stdout",
     "output_type": "stream",
     "text": [
      "train X: (960000, 28, 28, 1)\n",
      "test X: (240000, 28, 28, 1)\n",
      "train Y: (960000, 24)\n",
      "test Y: (240000, 24)\n"
     ]
    }
   ],
   "source": [
    "doodleModels = DoodleModels(images, labels)"
   ]
  },
  {
   "cell_type": "code",
   "execution_count": null,
   "metadata": {},
   "outputs": [
    {
     "name": "stdout",
     "output_type": "stream",
     "text": [
      "_________________________________________________________________\n",
      "Layer (type)                 Output Shape              Param #   \n",
      "=================================================================\n",
      "conv2d_1 (Conv2D)            (None, 26, 26, 16)        160       \n",
      "_________________________________________________________________\n",
      "max_pooling2d_1 (MaxPooling2 (None, 13, 13, 16)        0         \n",
      "_________________________________________________________________\n",
      "conv2d_2 (Conv2D)            (None, 11, 11, 32)        4640      \n",
      "_________________________________________________________________\n",
      "max_pooling2d_2 (MaxPooling2 (None, 5, 5, 32)          0         \n",
      "_________________________________________________________________\n",
      "conv2d_3 (Conv2D)            (None, 3, 3, 32)          9248      \n",
      "_________________________________________________________________\n",
      "flatten_1 (Flatten)          (None, 288)               0         \n",
      "_________________________________________________________________\n",
      "dense_1 (Dense)              (None, 32)                9248      \n",
      "_________________________________________________________________\n",
      "dense_2 (Dense)              (None, 24)                792       \n",
      "=================================================================\n",
      "Total params: 24,088\n",
      "Trainable params: 24,088\n",
      "Non-trainable params: 0\n",
      "_________________________________________________________________\n",
      "Train on 768000 samples, validate on 192000 samples\n",
      "Epoch 1/15\n",
      "768000/768000 [==============================] - 77s 100us/step - loss: 0.8452 - categorical_accuracy: 0.7628 - val_loss: 0.6306 - val_categorical_accuracy: 0.8253\n",
      "Epoch 2/15\n",
      "768000/768000 [==============================] - 55s 72us/step - loss: 0.5881 - categorical_accuracy: 0.8369 - val_loss: 0.5921 - val_categorical_accuracy: 0.8385\n",
      "Epoch 3/15\n",
      "768000/768000 [==============================] - 56s 72us/step - loss: 0.5486 - categorical_accuracy: 0.8476 - val_loss: 0.5511 - val_categorical_accuracy: 0.8475\n",
      "Epoch 4/15\n",
      "519040/768000 [===================>..........] - ETA: 16s - loss: 0.5320 - categorical_accuracy: 0.8526"
     ]
    }
   ],
   "source": [
    "epochSize = 15\n",
    "batchSize = 64\n",
    "learningRate = 0.001\n",
    "confStr = \"_e\" + str( epochSize ) + \"_b\" + str( batchSize ) + \"_lr\" + str( learningRate ) + \" \"\n",
    "histories = []\n",
    "for i in range( doodleModels.numberOfAvailableModels ):\n",
    "    \n",
    "    modelNo = i + 1\n",
    "    \n",
    "    #1 filter if needed\n",
    "    if type( trainOnlyModels ) == list and len( trainOnlyModels ) > 0 and modelNo not in trainOnlyModels:\n",
    "        print( \"Skipping model #\", modelNo )\n",
    "        continue\n",
    "        \n",
    "    #2 get and train model\n",
    "    model = doodleModels.getModel( modelNo, learningRate )\n",
    "    history, testLoss, testAcc = doodleModels.runModel( model, epochSize, batchSize )\n",
    "    histories.append( ( model, history, testLoss, testAcc ) )\n",
    "    \n",
    "    #3 save model performance plot\n",
    "    plotSavePath = modelGraphDirectory + model.name + confStr + \".png\"\n",
    "    doodleModels.plotModelTrainPerformance( model, plotSavePath )\n",
    "    \n",
    "    #4 save trained model\n",
    "    if saveModels == True:\n",
    "        modelPath = modelDirectory + model.name + confStr + \"_Pa.h5\"\n",
    "        doodleModels.saveModelAndHistory( model, modelPath )\n"
   ]
  },
  {
   "cell_type": "code",
   "execution_count": null,
   "metadata": {},
   "outputs": [],
   "source": [
    "#print all model graph\n",
    "plt.close()\n",
    "colorPalette = sns.color_palette(\"hls\", len( histories ) )\n",
    "colorIndex = 0\n",
    "for ( model, history, testLoss, testAcc ) in histories:\n",
    "    epochX = np.arange( len( history.epoch ) ) + 1\n",
    "    fig = plt.figure( figsize=( 16, 10 ) )\n",
    "    plt.figure(1)\n",
    "    \n",
    "    if 'val_loss' in history.history:\n",
    "        plt.plot( epochX, history.history['val_categorical_accuracy'], color = colorPalette[ colorIndex] , label = model.name + \" - acc\" )\n",
    "        plt.plot( epochX, history.history['val_loss'], color = colorPalette[ colorIndex], label = model.name + \" - loss\", linestyle = '--' )\n",
    "    else:\n",
    "        plt.plot( epochX, history.history['categorical_accuracy'], color = colorPalette[ colorIndex] , label = model.name + \" - acc\" )\n",
    "        plt.plot( epochX, history.history['loss'], color = colorPalette[ colorIndex], label = model.name + \" - loss\", linestyle = '--' )\n",
    "\n",
    "    plt.title( 'Epoch vs Test: All Models -' + confStr )\n",
    "    plt.xlabel( \"Epoch\" )\n",
    "    plt.ylabel( \"amount\" )\n",
    "    plt.xticks( epochX )\n",
    "    plt.xlim( right = len( history.epoch ) * 1.2 )\n",
    "    plt.legend()\n",
    "    colorIndex = colorIndex + 1\n",
    "\n",
    "allPath =  modelGraphDirectory + \"all_\" + confStr + datetime.now().strftime( \"%Y-%M-%d %Hh%Mm%Ss\" ) + \".png\"\n",
    "plt.savefig( allPath )"
   ]
  },
  {
   "cell_type": "code",
   "execution_count": null,
   "metadata": {},
   "outputs": [],
   "source": []
  }
 ],
 "metadata": {
  "kernelspec": {
   "display_name": "Python 3",
   "language": "python",
   "name": "python3"
  },
  "language_info": {
   "codemirror_mode": {
    "name": "ipython",
    "version": 3
   },
   "file_extension": ".py",
   "mimetype": "text/x-python",
   "name": "python",
   "nbconvert_exporter": "python",
   "pygments_lexer": "ipython3",
   "version": "3.6.6"
  }
 },
 "nbformat": 4,
 "nbformat_minor": 2
}
