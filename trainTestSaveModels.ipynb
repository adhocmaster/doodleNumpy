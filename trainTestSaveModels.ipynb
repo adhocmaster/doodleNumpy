{
 "cells": [
  {
   "cell_type": "code",
   "execution_count": 1,
   "metadata": {},
   "outputs": [
    {
     "name": "stderr",
     "output_type": "stream",
     "text": [
      "Using TensorFlow backend.\n",
      "WARNING:root:Keras dependencies loaded\n",
      "WARNING:root:dataUtils loaded\n",
      "WARNING:root:DoodleModels loaded\n"
     ]
    }
   ],
   "source": [
    "exec(open(\"initKeras.py\").read())"
   ]
  },
  {
   "cell_type": "code",
   "execution_count": 2,
   "metadata": {},
   "outputs": [
    {
     "name": "stdout",
     "output_type": "stream",
     "text": [
      "Processing aircraft carrier F:\\myProjects\\tim209\\filtered by category\\output\\aircraft carrier.npy\n",
      "Observation #: 20000\n",
      "label hot vectors #: 20000\n",
      "Processing airplane F:\\myProjects\\tim209\\filtered by category\\output\\airplane.npy\n",
      "Observation #: 20000\n",
      "label hot vectors #: 20000\n",
      "Processing alarm clock F:\\myProjects\\tim209\\filtered by category\\output\\alarm clock.npy\n",
      "Observation #: 20000\n",
      "label hot vectors #: 20000\n",
      "Processing ambulance F:\\myProjects\\tim209\\filtered by category\\output\\ambulance.npy\n",
      "Observation #: 20000\n",
      "label hot vectors #: 20000\n",
      "Processing angel F:\\myProjects\\tim209\\filtered by category\\output\\angel.npy\n",
      "Observation #: 20000\n",
      "label hot vectors #: 20000\n",
      "Processing animal migration F:\\myProjects\\tim209\\filtered by category\\output\\animal migration.npy\n",
      "Observation #: 20000\n",
      "label hot vectors #: 20000\n",
      "Processing ant F:\\myProjects\\tim209\\filtered by category\\output\\ant.npy\n",
      "Observation #: 20000\n",
      "label hot vectors #: 20000\n",
      "Processing anvil F:\\myProjects\\tim209\\filtered by category\\output\\anvil.npy\n",
      "Observation #: 20000\n",
      "label hot vectors #: 20000\n",
      "Processing apple F:\\myProjects\\tim209\\filtered by category\\output\\apple.npy\n",
      "Observation #: 20000\n",
      "label hot vectors #: 20000\n",
      "Processing arm F:\\myProjects\\tim209\\filtered by category\\output\\arm.npy\n",
      "Observation #: 20000\n",
      "label hot vectors #: 20000\n"
     ]
    }
   ],
   "source": [
    "# #data preparation\n",
    "inputDir = \"F:\\\\myProjects\\\\tim209\\\\filtered by category\\\\output\\\\*.npy\"\n",
    "modelDirectory = \"F:\\\\myProjects\\\\tim209\\\\doodle\\\\savedModels\\\\\"\n",
    "modelGraphDirectory = \"F:\\\\myProjects\\\\tim209\\\\doodle\\\\experiment results\\\\\"\n",
    "dataUtils = dataUtils( inputDir )\n",
    "dataUtils.process()"
   ]
  },
  {
   "cell_type": "code",
   "execution_count": 3,
   "metadata": {},
   "outputs": [
    {
     "name": "stdout",
     "output_type": "stream",
     "text": [
      "(200000, 784) (200000, 10) {'aircraft carrier': 0, 'airplane': 1, 'alarm clock': 2, 'ambulance': 3, 'angel': 4, 'animal migration': 5, 'ant': 6, 'anvil': 7, 'apple': 8, 'arm': 9}\n"
     ]
    }
   ],
   "source": [
    "(images, labels, classToLevels ) = dataUtils.getData()\n",
    "(imagesR, labelsR, classToLevelsR ) = dataUtils.getRandomizedData()\n",
    "images = dataUtils.reshapeDataForKeras( images )\n",
    "imagesR = dataUtils.reshapeDataForKeras( imagesR )"
   ]
  },
  {
   "cell_type": "code",
   "execution_count": 4,
   "metadata": {},
   "outputs": [
    {
     "name": "stdout",
     "output_type": "stream",
     "text": [
      "train X: (160000, 28, 28, 1)\n",
      "test X: (40000, 28, 28, 1)\n",
      "train Y: (160000, 10)\n",
      "test Y: (40000, 10)\n"
     ]
    }
   ],
   "source": [
    "doodleModels = DoodleModels(images, labels)"
   ]
  },
  {
   "cell_type": "code",
   "execution_count": null,
   "metadata": {},
   "outputs": [
    {
     "name": "stdout",
     "output_type": "stream",
     "text": [
      "_________________________________________________________________\n",
      "Layer (type)                 Output Shape              Param #   \n",
      "=================================================================\n",
      "conv2d_1 (Conv2D)            (None, 26, 26, 16)        160       \n",
      "_________________________________________________________________\n",
      "max_pooling2d_1 (MaxPooling2 (None, 13, 13, 16)        0         \n",
      "_________________________________________________________________\n",
      "conv2d_2 (Conv2D)            (None, 11, 11, 32)        4640      \n",
      "_________________________________________________________________\n",
      "max_pooling2d_2 (MaxPooling2 (None, 5, 5, 32)          0         \n",
      "_________________________________________________________________\n",
      "conv2d_3 (Conv2D)            (None, 3, 3, 32)          9248      \n",
      "_________________________________________________________________\n",
      "flatten_1 (Flatten)          (None, 288)               0         \n",
      "_________________________________________________________________\n",
      "dense_1 (Dense)              (None, 32)                9248      \n",
      "_________________________________________________________________\n",
      "dense_2 (Dense)              (None, 10)                330       \n",
      "=================================================================\n",
      "Total params: 23,626\n",
      "Trainable params: 23,626\n",
      "Non-trainable params: 0\n",
      "_________________________________________________________________\n",
      "Epoch 1/15\n",
      "160000/160000 [==============================] - 7s 45us/step - loss: 1.1755 - categorical_accuracy: 0.6250\n",
      "Epoch 2/15\n",
      "160000/160000 [==============================] - 3s 21us/step - loss: 0.7206 - categorical_accuracy: 0.7812\n",
      "Epoch 3/15\n",
      "160000/160000 [==============================] - 3s 21us/step - loss: 0.5941 - categorical_accuracy: 0.8221\n",
      "Epoch 4/15\n",
      "160000/160000 [==============================] - 3s 20us/step - loss: 0.5310 - categorical_accuracy: 0.8424\n",
      "Epoch 5/15\n",
      "160000/160000 [==============================] - 3s 21us/step - loss: 0.4874 - categorical_accuracy: 0.8552\n",
      "Epoch 6/15\n",
      "160000/160000 [==============================] - 3s 20us/step - loss: 0.4562 - categorical_accuracy: 0.8634\n",
      "Epoch 7/15\n",
      "160000/160000 [==============================] - 3s 20us/step - loss: 0.4317 - categorical_accuracy: 0.8704\n",
      "Epoch 8/15\n",
      "160000/160000 [==============================] - 3s 20us/step - loss: 0.4132 - categorical_accuracy: 0.8756\n",
      "Epoch 9/15\n",
      "160000/160000 [==============================] - 3s 21us/step - loss: 0.3974 - categorical_accuracy: 0.8803\n",
      "Epoch 10/15\n",
      "160000/160000 [==============================] - 3s 20us/step - loss: 0.3840 - categorical_accuracy: 0.8841\n",
      "Epoch 11/15\n",
      "160000/160000 [==============================] - 3s 20us/step - loss: 0.3723 - categorical_accuracy: 0.8878\n",
      "Epoch 12/15\n",
      "160000/160000 [==============================] - 3s 20us/step - loss: 0.3626 - categorical_accuracy: 0.8902\n",
      "Epoch 13/15\n",
      "160000/160000 [==============================] - 3s 20us/step - loss: 0.3548 - categorical_accuracy: 0.8923\n",
      "Epoch 14/15\n",
      "160000/160000 [==============================] - 3s 20us/step - loss: 0.3473 - categorical_accuracy: 0.8948\n",
      "Epoch 15/15\n",
      "160000/160000 [==============================] - 3s 20us/step - loss: 0.3409 - categorical_accuracy: 0.8961\n",
      "40000/40000 [==============================] - 2s 38us/step\n",
      "_________________________________________________________________\n",
      "Layer (type)                 Output Shape              Param #   \n",
      "=================================================================\n",
      "conv2d_4 (Conv2D)            (None, 26, 26, 32)        320       \n",
      "_________________________________________________________________\n",
      "max_pooling2d_3 (MaxPooling2 (None, 13, 13, 32)        0         \n",
      "_________________________________________________________________\n",
      "conv2d_5 (Conv2D)            (None, 11, 11, 64)        18496     \n",
      "_________________________________________________________________\n",
      "max_pooling2d_4 (MaxPooling2 (None, 5, 5, 64)          0         \n",
      "_________________________________________________________________\n",
      "conv2d_6 (Conv2D)            (None, 3, 3, 64)          36928     \n",
      "_________________________________________________________________\n",
      "flatten_2 (Flatten)          (None, 576)               0         \n",
      "_________________________________________________________________\n",
      "dense_3 (Dense)              (None, 64)                36928     \n",
      "_________________________________________________________________\n",
      "dense_4 (Dense)              (None, 10)                650       \n",
      "=================================================================\n",
      "Total params: 93,322\n",
      "Trainable params: 93,322\n",
      "Non-trainable params: 0\n",
      "_________________________________________________________________\n",
      "Epoch 1/15\n",
      "160000/160000 [==============================] - 5s 32us/step - loss: 0.9904 - categorical_accuracy: 0.6824\n",
      "Epoch 2/15\n",
      "160000/160000 [==============================] - 5s 30us/step - loss: 0.5725 - categorical_accuracy: 0.8265\n",
      "Epoch 3/15\n",
      "160000/160000 [==============================] - 5s 30us/step - loss: 0.4706 - categorical_accuracy: 0.8576\n",
      "Epoch 4/15\n",
      "160000/160000 [==============================] - 5s 30us/step - loss: 0.4162 - categorical_accuracy: 0.8733\n",
      "Epoch 5/15\n",
      "160000/160000 [==============================] - 5s 30us/step - loss: 0.3783 - categorical_accuracy: 0.8849\n",
      "Epoch 6/15\n",
      "160000/160000 [==============================] - 5s 30us/step - loss: 0.3526 - categorical_accuracy: 0.8918\n",
      "Epoch 7/15\n",
      "160000/160000 [==============================] - 5s 30us/step - loss: 0.3311 - categorical_accuracy: 0.8979\n",
      "Epoch 8/15\n",
      "160000/160000 [==============================] - 5s 30us/step - loss: 0.3125 - categorical_accuracy: 0.9033\n",
      "Epoch 9/15\n",
      "160000/160000 [==============================] - 5s 30us/step - loss: 0.2986 - categorical_accuracy: 0.9072 0s - loss: 0.2994 - categorica\n",
      "Epoch 10/15\n",
      "160000/160000 [==============================] - 5s 30us/step - loss: 0.2847 - categorical_accuracy: 0.9109\n",
      "Epoch 11/15\n",
      "160000/160000 [==============================] - 5s 30us/step - loss: 0.2731 - categorical_accuracy: 0.9133\n",
      "Epoch 12/15\n",
      "160000/160000 [==============================] - 5s 30us/step - loss: 0.2622 - categorical_accuracy: 0.9169\n",
      "Epoch 13/15\n",
      "160000/160000 [==============================] - 5s 30us/step - loss: 0.2520 - categorical_accuracy: 0.9190\n",
      "Epoch 14/15\n",
      "160000/160000 [==============================] - 5s 30us/step - loss: 0.2425 - categorical_accuracy: 0.9216\n",
      "Epoch 15/15\n",
      "160000/160000 [==============================] - 5s 30us/step - loss: 0.2329 - categorical_accuracy: 0.9245\n",
      "40000/40000 [==============================] - 2s 48us/step\n",
      "_________________________________________________________________\n",
      "Layer (type)                 Output Shape              Param #   \n",
      "=================================================================\n",
      "input_3 (InputLayer)         (None, 28, 28, 1)         0         \n",
      "_________________________________________________________________\n",
      "conv2d_7 (Conv2D)            (None, 28, 28, 96)        960       \n",
      "_________________________________________________________________\n",
      "conv2d_8 (Conv2D)            (None, 28, 28, 96)        83040     \n",
      "_________________________________________________________________\n",
      "conv2d_9 (Conv2D)            (None, 28, 28, 96)        83040     \n",
      "_________________________________________________________________\n",
      "max_pooling2d_5 (MaxPooling2 (None, 13, 13, 96)        0         \n",
      "_________________________________________________________________\n",
      "conv2d_10 (Conv2D)           (None, 13, 13, 192)       166080    \n",
      "_________________________________________________________________\n",
      "conv2d_11 (Conv2D)           (None, 13, 13, 192)       331968    \n",
      "_________________________________________________________________\n",
      "conv2d_12 (Conv2D)           (None, 13, 13, 192)       331968    \n",
      "_________________________________________________________________\n",
      "max_pooling2d_6 (MaxPooling2 (None, 6, 6, 192)         0         \n",
      "_________________________________________________________________\n",
      "conv2d_13 (Conv2D)           (None, 6, 6, 192)         331968    \n",
      "_________________________________________________________________\n",
      "conv2d_14 (Conv2D)           (None, 6, 6, 192)         37056     \n",
      "_________________________________________________________________\n",
      "conv2d_15 (Conv2D)           (None, 6, 6, 10)          1930      \n",
      "_________________________________________________________________\n",
      "global_average_pooling2d_1 ( (None, 10)                0         \n",
      "_________________________________________________________________\n",
      "activation_1 (Activation)    (None, 10)                0         \n",
      "=================================================================\n",
      "Total params: 1,368,010\n",
      "Trainable params: 1,368,010\n",
      "Non-trainable params: 0\n",
      "_________________________________________________________________\n"
     ]
    },
    {
     "name": "stdout",
     "output_type": "stream",
     "text": [
      "Epoch 1/15\n",
      "160000/160000 [==============================] - 79s 492us/step - loss: 1.7016 - categorical_accuracy: 0.4050\n",
      "Epoch 2/15\n",
      "160000/160000 [==============================] - 77s 483us/step - loss: 0.6703 - categorical_accuracy: 0.7958\n",
      "Epoch 3/15\n",
      "115500/160000 [====================>.........] - ETA: 21s - loss: 0.4223 - categorical_accuracy: 0.8730"
     ]
    }
   ],
   "source": [
    "epochSize = 15\n",
    "batchSize = 500\n",
    "histories = []\n",
    "for i in range(5):\n",
    "    \n",
    "    model = doodleModels.getModel( i + 1 )\n",
    "    history, testLoss, testAcc = doodleModels.runModel( model, epochSize, batchSize )\n",
    "    histories.append( ( model, history, testLoss, testAcc ) )\n",
    "    \n",
    "    epochX = np.arange(epochSize) + 1\n",
    "    plt.close()\n",
    "    plt.plot( epochX, history.history['categorical_accuracy'], color = \"blue\", label = \"accuracy\" )\n",
    "    plt.plot( epochX, history.history['loss'], color = \"red\", label = \"loss\" )\n",
    "\n",
    "    plt.title( 'Epoch vs Test' + model.name )\n",
    "    plt.xlabel( \"Epoch\" )\n",
    "    plt.ylabel( \"amount\" )\n",
    "    plt.xticks( epochX )\n",
    "    plt.legend()\n",
    "    \n",
    "    plt.savefig( modelGraphDirectory + model.name + \"_e\" + str( epochSize ) + \"_b\" + str( batchSize ) + \".png\" )\n",
    "    \n",
    "    \n",
    "    "
   ]
  },
  {
   "cell_type": "code",
   "execution_count": null,
   "metadata": {},
   "outputs": [],
   "source": []
  }
 ],
 "metadata": {
  "kernelspec": {
   "display_name": "Python 3",
   "language": "python",
   "name": "python3"
  },
  "language_info": {
   "codemirror_mode": {
    "name": "ipython",
    "version": 3
   },
   "file_extension": ".py",
   "mimetype": "text/x-python",
   "name": "python",
   "nbconvert_exporter": "python",
   "pygments_lexer": "ipython3",
   "version": "3.6.6"
  }
 },
 "nbformat": 4,
 "nbformat_minor": 2
}
