{
 "cells": [
  {
   "cell_type": "code",
   "execution_count": 7,
   "metadata": {},
   "outputs": [
    {
     "name": "stderr",
     "output_type": "stream",
     "text": [
      "WARNING:root:Keras dependencies loaded\n",
      "WARNING:root:dataUtils loaded\n",
      "WARNING:root:DoodleModels loaded\n"
     ]
    }
   ],
   "source": [
    "exec(open(\"initKeras.py\").read())"
   ]
  },
  {
   "cell_type": "code",
   "execution_count": 8,
   "metadata": {},
   "outputs": [
    {
     "name": "stdout",
     "output_type": "stream",
     "text": [
      "Processing aircraft carrier C:\\tim209\\filtered by category\\output\\aircraft carrier.npy\n",
      "Observation #: 20000\n",
      "label hot vectors #: 20000\n",
      "Processing airplane C:\\tim209\\filtered by category\\output\\airplane.npy\n",
      "Observation #: 20000\n",
      "label hot vectors #: 20000\n",
      "Processing alarm clock C:\\tim209\\filtered by category\\output\\alarm clock.npy\n",
      "Observation #: 20000\n",
      "label hot vectors #: 20000\n",
      "Processing ambulance C:\\tim209\\filtered by category\\output\\ambulance.npy\n",
      "Observation #: 20000\n",
      "label hot vectors #: 20000\n",
      "Processing angel C:\\tim209\\filtered by category\\output\\angel.npy\n",
      "Observation #: 20000\n",
      "label hot vectors #: 20000\n",
      "Processing animal migration C:\\tim209\\filtered by category\\output\\animal migration.npy\n",
      "Observation #: 20000\n",
      "label hot vectors #: 20000\n",
      "Processing ant C:\\tim209\\filtered by category\\output\\ant.npy\n",
      "Observation #: 20000\n",
      "label hot vectors #: 20000\n",
      "Processing anvil C:\\tim209\\filtered by category\\output\\anvil.npy\n",
      "Observation #: 20000\n",
      "label hot vectors #: 20000\n",
      "Processing apple C:\\tim209\\filtered by category\\output\\apple.npy\n",
      "Observation #: 20000\n",
      "label hot vectors #: 20000\n",
      "Processing arm C:\\tim209\\filtered by category\\output\\arm.npy\n",
      "Observation #: 20000\n",
      "label hot vectors #: 20000\n"
     ]
    }
   ],
   "source": [
    "# model numbers to retrain, set to false or blank if you want to retrain all the models in DoodleModels. Strictly a list of integers\n",
    "trainOnlyModels = [3, 4, 5, 6, 7, 8]\n",
    "saveModels = True\n",
    "\n",
    "# #data preparation\n",
    "inputDir = \"C:\\\\tim209\\\\filtered by category\\\\output\\\\*.npy\"\n",
    "modelDirectory = \"F:\\\\myProjects\\\\tim209\\\\doodle\\\\savedModels\\\\\"\n",
    "modelGraphDirectory = \"F:\\\\myProjects\\\\tim209\\\\doodle\\\\experiment results\\\\\"\n",
    "dataUtils = dataUtils( inputDir )\n",
    "dataUtils.process()"
   ]
  },
  {
   "cell_type": "code",
   "execution_count": 9,
   "metadata": {},
   "outputs": [
    {
     "name": "stdout",
     "output_type": "stream",
     "text": [
      "(200000, 784) (200000, 10) {'aircraft carrier': 0, 'airplane': 1, 'alarm clock': 2, 'ambulance': 3, 'angel': 4, 'animal migration': 5, 'ant': 6, 'anvil': 7, 'apple': 8, 'arm': 9}\n"
     ]
    }
   ],
   "source": [
    "(images, labels, classToLevels ) = dataUtils.getData()\n",
    "(imagesR, labelsR, classToLevelsR ) = dataUtils.getRandomizedData()\n",
    "images = dataUtils.reshapeDataForKeras( images )\n",
    "imagesR = dataUtils.reshapeDataForKeras( imagesR )"
   ]
  },
  {
   "cell_type": "code",
   "execution_count": 10,
   "metadata": {},
   "outputs": [
    {
     "name": "stdout",
     "output_type": "stream",
     "text": [
      "train X: (160000, 28, 28, 1)\n",
      "test X: (40000, 28, 28, 1)\n",
      "train Y: (160000, 10)\n",
      "test Y: (40000, 10)\n"
     ]
    }
   ],
   "source": [
    "doodleModels = DoodleModels(images, labels)"
   ]
  },
  {
   "cell_type": "code",
   "execution_count": null,
   "metadata": {},
   "outputs": [
    {
     "name": "stdout",
     "output_type": "stream",
     "text": [
      "Skipping model # 1\n",
      "Skipping model # 2\n",
      "_________________________________________________________________\n",
      "Layer (type)                 Output Shape              Param #   \n",
      "=================================================================\n",
      "input_5 (InputLayer)         (None, 28, 28, 1)         0         \n",
      "_________________________________________________________________\n",
      "conv2d_22 (Conv2D)           (None, 28, 28, 96)        960       \n",
      "_________________________________________________________________\n",
      "conv2d_23 (Conv2D)           (None, 28, 28, 96)        83040     \n",
      "_________________________________________________________________\n",
      "conv2d_24 (Conv2D)           (None, 28, 28, 96)        83040     \n",
      "_________________________________________________________________\n",
      "max_pooling2d_6 (MaxPooling2 (None, 13, 13, 96)        0         \n",
      "_________________________________________________________________\n",
      "conv2d_25 (Conv2D)           (None, 13, 13, 192)       166080    \n",
      "_________________________________________________________________\n",
      "conv2d_26 (Conv2D)           (None, 13, 13, 192)       37056     \n",
      "_________________________________________________________________\n",
      "conv2d_27 (Conv2D)           (None, 13, 13, 10)        1930      \n",
      "_________________________________________________________________\n",
      "global_average_pooling2d_3 ( (None, 10)                0         \n",
      "_________________________________________________________________\n",
      "activation_3 (Activation)    (None, 10)                0         \n",
      "=================================================================\n",
      "Total params: 372,106\n",
      "Trainable params: 372,106\n",
      "Non-trainable params: 0\n",
      "_________________________________________________________________\n",
      "Train on 128000 samples, validate on 32000 samples\n",
      "Epoch 1/15\n",
      "128000/128000 [==============================] - 60s 471us/step - loss: 14.5078 - categorical_accuracy: 0.0995 - val_loss: 14.5224 - val_categorical_accuracy: 0.0990\n",
      "Epoch 2/15\n",
      "128000/128000 [==============================] - 60s 468us/step - loss: 14.5133 - categorical_accuracy: 0.0996 - val_loss: 14.5224 - val_categorical_accuracy: 0.0990\n",
      "Epoch 3/15\n",
      "104000/128000 [=======================>......] - ETA: 10s - loss: 14.5168 - categorical_accuracy: 0.0993"
     ]
    }
   ],
   "source": [
    "epochSize = 15\n",
    "batchSize = 64\n",
    "learningRate = 0.01\n",
    "confStr = \"_e\" + str( epochSize ) + \"_b\" + str( batchSize ) + \"_lr\" + str( learningRate ) + \" \"\n",
    "histories = []\n",
    "for i in range( doodleModels.numberOfAvailableModels ):\n",
    "    \n",
    "    modelNo = i + 1\n",
    "    \n",
    "    #1 filter if needed\n",
    "    if type( trainOnlyModels ) == list and len( trainOnlyModels ) > 0 and modelNo not in trainOnlyModels:\n",
    "        print( \"Skipping model #\", modelNo )\n",
    "        continue\n",
    "        \n",
    "    #2 get and train model\n",
    "    model = doodleModels.getModel( modelNo, learningRate )\n",
    "    history, testLoss, testAcc = doodleModels.runModel( model, epochSize, batchSize )\n",
    "    histories.append( ( model, history, testLoss, testAcc ) )\n",
    "    \n",
    "    #3 save model performance plot\n",
    "    plotSavePath = modelGraphDirectory + model.name + confStr + \".png\"\n",
    "    doodleModels.plotModelTrainPerformance( model, plotSavePath )\n",
    "    \n",
    "    #4 save trained model\n",
    "    if saveModels == True:\n",
    "        modelPath = modelDirectory + model.name + confStr + \"_Pa.h5\"\n",
    "        doodleModels.saveModelAndHistory( model, modelPath )\n"
   ]
  },
  {
   "cell_type": "code",
   "execution_count": null,
   "metadata": {},
   "outputs": [],
   "source": [
    "#print all model graph\n",
    "plt.close()\n",
    "colorPalette = sns.color_palette(\"hls\", len( histories ) )\n",
    "colorIndex = 0\n",
    "for ( model, history, testLoss, testAcc ) in histories:\n",
    "    epochX = np.arange( len( history.epoch ) ) + 1\n",
    "    fig = plt.figure( figsize=( 16, 10 ) )\n",
    "    plt.figure(1)\n",
    "    \n",
    "    if 'val_loss' in history.history:\n",
    "        plt.plot( epochX, history.history['val_categorical_accuracy'], color = colorPalette[ colorIndex] , label = model.name + \" - acc\" )\n",
    "        plt.plot( epochX, history.history['val_loss'], color = colorPalette[ colorIndex], label = model.name + \" - loss\", linestyle = '--' )\n",
    "    else:\n",
    "        plt.plot( epochX, history.history['categorical_accuracy'], color = colorPalette[ colorIndex] , label = model.name + \" - acc\" )\n",
    "        plt.plot( epochX, history.history['loss'], color = colorPalette[ colorIndex], label = model.name + \" - loss\", linestyle = '--' )\n",
    "\n",
    "    plt.title( 'Epoch vs Test: All Models -' + confStr )\n",
    "    plt.xlabel( \"Epoch\" )\n",
    "    plt.ylabel( \"amount\" )\n",
    "    plt.xticks( epochX )\n",
    "    plt.xlim( right = len( history.epoch ) * 1.2 )\n",
    "    plt.legend()\n",
    "    colorIndex = colorIndex + 1\n",
    "\n",
    "allPath =  modelGraphDirectory + \"all_\" + confStr + datetime.now().strftime( \"%Y-%M-%d %Hh%Mm%Ss\" ) + \".png\"\n",
    "plt.savefig( allPath )"
   ]
  },
  {
   "cell_type": "code",
   "execution_count": null,
   "metadata": {},
   "outputs": [],
   "source": []
  }
 ],
 "metadata": {
  "kernelspec": {
   "display_name": "Python 3",
   "language": "python",
   "name": "python3"
  },
  "language_info": {
   "codemirror_mode": {
    "name": "ipython",
    "version": 3
   },
   "file_extension": ".py",
   "mimetype": "text/x-python",
   "name": "python",
   "nbconvert_exporter": "python",
   "pygments_lexer": "ipython3",
   "version": "3.6.6"
  }
 },
 "nbformat": 4,
 "nbformat_minor": 2
}
