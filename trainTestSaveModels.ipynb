{
 "cells": [
  {
   "cell_type": "code",
   "execution_count": 28,
   "metadata": {},
   "outputs": [
    {
     "name": "stderr",
     "output_type": "stream",
     "text": [
      "WARNING:root:Keras dependencies loaded\n",
      "WARNING:root:dataUtils loaded\n",
      "WARNING:root:DoodleModels loaded\n"
     ]
    }
   ],
   "source": [
    "exec(open(\"initKeras.py\").read())"
   ]
  },
  {
   "cell_type": "code",
   "execution_count": 18,
   "metadata": {},
   "outputs": [
    {
     "name": "stdout",
     "output_type": "stream",
     "text": [
      "Processing aircraft carrier F:\\myProjects\\tim209\\filtered by category\\output\\aircraft carrier.npy\n",
      "Observation #: 20000\n",
      "label hot vectors #: 20000\n",
      "Processing airplane F:\\myProjects\\tim209\\filtered by category\\output\\airplane.npy\n",
      "Observation #: 20000\n",
      "label hot vectors #: 20000\n",
      "Processing alarm clock F:\\myProjects\\tim209\\filtered by category\\output\\alarm clock.npy\n",
      "Observation #: 20000\n",
      "label hot vectors #: 20000\n",
      "Processing ambulance F:\\myProjects\\tim209\\filtered by category\\output\\ambulance.npy\n",
      "Observation #: 20000\n",
      "label hot vectors #: 20000\n",
      "Processing angel F:\\myProjects\\tim209\\filtered by category\\output\\angel.npy\n",
      "Observation #: 20000\n",
      "label hot vectors #: 20000\n",
      "Processing animal migration F:\\myProjects\\tim209\\filtered by category\\output\\animal migration.npy\n",
      "Observation #: 20000\n",
      "label hot vectors #: 20000\n",
      "Processing ant F:\\myProjects\\tim209\\filtered by category\\output\\ant.npy\n",
      "Observation #: 20000\n",
      "label hot vectors #: 20000\n",
      "Processing anvil F:\\myProjects\\tim209\\filtered by category\\output\\anvil.npy\n",
      "Observation #: 20000\n",
      "label hot vectors #: 20000\n",
      "Processing apple F:\\myProjects\\tim209\\filtered by category\\output\\apple.npy\n",
      "Observation #: 20000\n",
      "label hot vectors #: 20000\n",
      "Processing arm F:\\myProjects\\tim209\\filtered by category\\output\\arm.npy\n",
      "Observation #: 20000\n",
      "label hot vectors #: 20000\n"
     ]
    }
   ],
   "source": [
    "# model numbers to retrain, set to false or blank if you want to retrain all the models in DoodleModels. Strictly a list of integers\n",
    "trainOnlyModels = [ 1, 2 ]\n",
    "saveModels = True\n",
    "\n",
    "# #data preparation\n",
    "inputDir = \"F:\\\\myProjects\\\\tim209\\\\filtered by category\\\\output\\\\*.npy\"\n",
    "modelDirectory = \"F:\\\\myProjects\\\\tim209\\\\doodle\\\\savedModels\\\\\"\n",
    "modelGraphDirectory = \"F:\\\\myProjects\\\\tim209\\\\doodle\\\\experiment results\\\\\"\n",
    "dataUtils = dataUtils( inputDir )\n",
    "dataUtils.process()"
   ]
  },
  {
   "cell_type": "code",
   "execution_count": 19,
   "metadata": {},
   "outputs": [
    {
     "name": "stdout",
     "output_type": "stream",
     "text": [
      "(200000, 784) (200000, 10) {'aircraft carrier': 0, 'airplane': 1, 'alarm clock': 2, 'ambulance': 3, 'angel': 4, 'animal migration': 5, 'ant': 6, 'anvil': 7, 'apple': 8, 'arm': 9}\n"
     ]
    }
   ],
   "source": [
    "(images, labels, classToLevels ) = dataUtils.getData()\n",
    "(imagesR, labelsR, classToLevelsR ) = dataUtils.getRandomizedData()\n",
    "images = dataUtils.reshapeDataForKeras( images )\n",
    "imagesR = dataUtils.reshapeDataForKeras( imagesR )"
   ]
  },
  {
   "cell_type": "code",
   "execution_count": 20,
   "metadata": {},
   "outputs": [
    {
     "name": "stdout",
     "output_type": "stream",
     "text": [
      "train X: (160000, 28, 28, 1)\n",
      "test X: (40000, 28, 28, 1)\n",
      "train Y: (160000, 10)\n",
      "test Y: (40000, 10)\n"
     ]
    }
   ],
   "source": [
    "doodleModels = DoodleModels(images, labels)"
   ]
  },
  {
   "cell_type": "code",
   "execution_count": 25,
   "metadata": {},
   "outputs": [
    {
     "name": "stdout",
     "output_type": "stream",
     "text": [
      "_________________________________________________________________\n",
      "Layer (type)                 Output Shape              Param #   \n",
      "=================================================================\n",
      "conv2d_16 (Conv2D)           (None, 26, 26, 16)        160       \n",
      "_________________________________________________________________\n",
      "max_pooling2d_11 (MaxPooling (None, 13, 13, 16)        0         \n",
      "_________________________________________________________________\n",
      "conv2d_17 (Conv2D)           (None, 11, 11, 32)        4640      \n",
      "_________________________________________________________________\n",
      "max_pooling2d_12 (MaxPooling (None, 5, 5, 32)          0         \n",
      "_________________________________________________________________\n",
      "conv2d_18 (Conv2D)           (None, 3, 3, 32)          9248      \n",
      "_________________________________________________________________\n",
      "flatten_6 (Flatten)          (None, 288)               0         \n",
      "_________________________________________________________________\n",
      "dense_11 (Dense)             (None, 32)                9248      \n",
      "_________________________________________________________________\n",
      "dense_12 (Dense)             (None, 10)                330       \n",
      "=================================================================\n",
      "Total params: 23,626\n",
      "Trainable params: 23,626\n",
      "Non-trainable params: 0\n",
      "_________________________________________________________________\n",
      "Epoch 1/5\n",
      "160000/160000 [==============================] - 4s 23us/step - loss: 1.1345 - categorical_accuracy: 0.6340\n",
      "Epoch 2/5\n",
      "160000/160000 [==============================] - 3s 21us/step - loss: 0.7313 - categorical_accuracy: 0.7772\n",
      "Epoch 3/5\n",
      "160000/160000 [==============================] - 3s 21us/step - loss: 0.6179 - categorical_accuracy: 0.8146\n",
      "Epoch 4/5\n",
      "160000/160000 [==============================] - 3s 21us/step - loss: 0.5506 - categorical_accuracy: 0.8356\n",
      "Epoch 5/5\n",
      "160000/160000 [==============================] - 3s 21us/step - loss: 0.5081 - categorical_accuracy: 0.8486\n",
      "40000/40000 [==============================] - 2s 47us/step\n",
      "{'loss': [1.134508222527802, 0.7313438223674893, 0.6178828466683626, 0.5506111645139754, 0.5081274636089802], 'categorical_accuracy': [0.6340125004993752, 0.7772125011309982, 0.8146125013008714, 0.8356062484905123, 0.8485812492668628]}\n",
      "saved model performance plot at: F:\\myProjects\\tim209\\doodle\\experiment results\\basic CNN, 32_e5_b500.png\n",
      "saved frozen model at F:\\myProjects\\tim209\\doodle\\savedModels\\basic CNN, 32_e5_b500_Pa.h5\n",
      "_________________________________________________________________\n",
      "Layer (type)                 Output Shape              Param #   \n",
      "=================================================================\n",
      "conv2d_19 (Conv2D)           (None, 26, 26, 32)        320       \n",
      "_________________________________________________________________\n",
      "max_pooling2d_13 (MaxPooling (None, 13, 13, 32)        0         \n",
      "_________________________________________________________________\n",
      "conv2d_20 (Conv2D)           (None, 11, 11, 64)        18496     \n",
      "_________________________________________________________________\n",
      "max_pooling2d_14 (MaxPooling (None, 5, 5, 64)          0         \n",
      "_________________________________________________________________\n",
      "conv2d_21 (Conv2D)           (None, 3, 3, 64)          36928     \n",
      "_________________________________________________________________\n",
      "flatten_7 (Flatten)          (None, 576)               0         \n",
      "_________________________________________________________________\n",
      "dense_13 (Dense)             (None, 64)                36928     \n",
      "_________________________________________________________________\n",
      "dense_14 (Dense)             (None, 10)                650       \n",
      "=================================================================\n",
      "Total params: 93,322\n",
      "Trainable params: 93,322\n",
      "Non-trainable params: 0\n",
      "_________________________________________________________________\n",
      "Epoch 1/5\n",
      "160000/160000 [==============================] - 5s 33us/step - loss: 1.0007 - categorical_accuracy: 0.6797 1s\n",
      "Epoch 2/5\n",
      "160000/160000 [==============================] - 5s 31us/step - loss: 0.5864 - categorical_accuracy: 0.8224\n",
      "Epoch 3/5\n",
      "160000/160000 [==============================] - 5s 30us/step - loss: 0.4769 - categorical_accuracy: 0.8565\n",
      "Epoch 4/5\n",
      "160000/160000 [==============================] - 5s 30us/step - loss: 0.4202 - categorical_accuracy: 0.8732\n",
      "Epoch 5/5\n",
      "160000/160000 [==============================] - 5s 30us/step - loss: 0.3823 - categorical_accuracy: 0.8844\n",
      "40000/40000 [==============================] - 2s 54us/step\n",
      "{'loss': [1.0007103832438589, 0.5864281879737974, 0.4769108940847218, 0.4201564512215555, 0.3822582338005304], 'categorical_accuracy': [0.6796750019304454, 0.8224249998107552, 0.8565124982967973, 0.8732499996200204, 0.8844125006347895]}\n",
      "saved model performance plot at: F:\\myProjects\\tim209\\doodle\\experiment results\\basic CNN, 64_e5_b500.png\n",
      "saved frozen model at F:\\myProjects\\tim209\\doodle\\savedModels\\basic CNN, 64_e5_b500_Pa.h5\n",
      "Skipping model # 3\n",
      "Skipping model # 4\n",
      "Skipping model # 5\n"
     ]
    },
    {
     "data": {
      "image/png": "[encoded data removed]",
      "text/plain": [
       "<Figure size 432x288 with 1 Axes>"
      ]
     },
     "metadata": {},
     "output_type": "display_data"
    }
   ],
   "source": [
    "epochSize = 5\n",
    "batchSize = 500\n",
    "histories = []\n",
    "for i in range(5):\n",
    "    \n",
    "    modelNo = i + 1\n",
    "    \n",
    "    #1 filter if needed\n",
    "    if type( trainOnlyModels ) == list and len( trainOnlyModels ) > 0 and modelNo not in trainOnlyModels:\n",
    "        print( \"Skipping model #\", modelNo )\n",
    "        continue\n",
    "        \n",
    "    #2 get and train model\n",
    "    model = doodleModels.getModel( modelNo )\n",
    "    history, testLoss, testAcc = doodleModels.runModel( model, epochSize, batchSize )\n",
    "    histories.append( ( model, history, testLoss, testAcc ) )\n",
    "    \n",
    "    #3 save model performance plot\n",
    "    plotSavePath = modelGraphDirectory + model.name + \"_e\" + str( epochSize ) + \"_b\" + str( batchSize ) + \".png\"\n",
    "    doodleModels.plotModelTrainPerformance( model, plotSavePath )\n",
    "    \n",
    "    #4 save trained model\n",
    "    if saveModels == True:\n",
    "        modelPath = modelDirectory + model.name + \"_e\" + str( epochSize ) + \"_b\" + str( batchSize ) + \"_Pa.h5\"\n",
    "        model.save( modelPath )\n",
    "        print( \"saved frozen model at\", modelPath )\n"
   ]
  },
  {
   "cell_type": "code",
   "execution_count": 26,
   "metadata": {},
   "outputs": [
    {
     "data": {
      "text/plain": [
       "(0.86, 0.3712, 0.33999999999999997)"
      ]
     },
     "execution_count": 26,
     "metadata": {},
     "output_type": "execute_result"
    },
    {
     "data": {
      "image/png": "[encoded data removed]",
      "text/plain": [
       "<Figure size 720x72 with 1 Axes>"
      ]
     },
     "metadata": {},
     "output_type": "display_data"
    }
   ],
   "source": [
    "pal = sns.color_palette(\"hls\", 10)\n",
    "sns.palplot(pal)\n",
    "pal[0]"
   ]
  },
  {
   "cell_type": "code",
   "execution_count": 35,
   "metadata": {},
   "outputs": [
    {
     "data": {
      "image/png": "[encoded data removed]",
      "text/plain": [
       "<Figure size 432x288 with 1 Axes>"
      ]
     },
     "metadata": {},
     "output_type": "display_data"
    }
   ],
   "source": [
    "#print all model graph\n",
    "plt.close()\n",
    "colorPalette = sns.color_palette(\"hls\", len( histories ) )\n",
    "colorIndex = 0\n",
    "for ( model, history, testLoss, testAcc ) in histories:\n",
    "    epochX = np.arange( len( history.epoch ) ) + 1\n",
    "    \n",
    "    plt.plot( epochX, history.history['categorical_accuracy'], color = colorPalette[ colorIndex] , label = model.name + \" - accuracy\" )\n",
    "    plt.plot( epochX, history.history['loss'], color = colorPalette[ colorIndex], label = model.name + \" - loss\", linestyle = '--' )\n",
    "\n",
    "    plt.title( 'Epoch vs Test - All Models' )\n",
    "    plt.xlabel( \"Epoch\" )\n",
    "    plt.ylabel( \"amount\" )\n",
    "    plt.xticks( epochX )\n",
    "    plt.legend()\n",
    "    colorIndex = colorIndex + 1\n",
    "\n",
    "plt.savefig( modelGraphDirectory + \"all-models-\" + datetime.now().strftime( \"%Y-%M-%d %Hh%Mm%Ss\" ) )"
   ]
  },
  {
   "cell_type": "code",
   "execution_count": 29,
   "metadata": {},
   "outputs": [],
   "source": [
    "x = datetime.now()"
   ]
  },
  {
   "cell_type": "code",
   "execution_count": 30,
   "metadata": {},
   "outputs": [
    {
     "data": {
      "text/plain": [
       "datetime.datetime(2018, 12, 8, 20, 45, 45, 190537)"
      ]
     },
     "execution_count": 30,
     "metadata": {},
     "output_type": "execute_result"
    }
   ],
   "source": [
    "x"
   ]
  },
  {
   "cell_type": "code",
   "execution_count": 32,
   "metadata": {},
   "outputs": [
    {
     "data": {
      "text/plain": [
       "'2018-45-08 20h45m45s'"
      ]
     },
     "execution_count": 32,
     "metadata": {},
     "output_type": "execute_result"
    }
   ],
   "source": [
    "x.strftime( \"%Y-%M-%d %Hh%Mm%Ss\" )"
   ]
  },
  {
   "cell_type": "code",
   "execution_count": null,
   "metadata": {},
   "outputs": [],
   "source": []
  }
 ],
 "metadata": {
  "kernelspec": {
   "display_name": "Python 3",
   "language": "python",
   "name": "python3"
  },
  "language_info": {
   "codemirror_mode": {
    "name": "ipython",
    "version": 3
   },
   "file_extension": ".py",
   "mimetype": "text/x-python",
   "name": "python",
   "nbconvert_exporter": "python",
   "pygments_lexer": "ipython3",
   "version": "3.6.6"
  }
 },
 "nbformat": 4,
 "nbformat_minor": 2
}
