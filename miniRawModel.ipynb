{
 "cells": [
  {
   "cell_type": "code",
   "execution_count": 31,
   "metadata": {},
   "outputs": [
    {
     "name": "stderr",
     "output_type": "stream",
     "text": [
      "WARNING:root:Keras dependencies loaded\n",
      "WARNING:root:dataUtils loaded\n",
      "WARNING:root:DoodleModels loaded\n"
     ]
    }
   ],
   "source": [
    "exec(open(\"initKeras.py\").read())"
   ]
  },
  {
   "cell_type": "code",
   "execution_count": 32,
   "metadata": {},
   "outputs": [],
   "source": [
    "# #data preparation\n",
    "inputDir = \"F:\\\\myProjects\\\\tim209\\\\filtered by category\\\\output\\\\*.npy\"\n",
    "modelDirectory = \"F:\\\\myProjects\\\\tim209\\\\doodle\\\\savedModels\\\\\"\n",
    "dataUtils = dataUtils( inputDir )"
   ]
  },
  {
   "cell_type": "code",
   "execution_count": 33,
   "metadata": {},
   "outputs": [
    {
     "name": "stdout",
     "output_type": "stream",
     "text": [
      "Processing aircraft carrier F:\\myProjects\\tim209\\filtered by category\\output\\aircraft carrier.npy\n",
      "Observation #: 20000\n",
      "label hot vectors #: 20000\n",
      "Processing airplane F:\\myProjects\\tim209\\filtered by category\\output\\airplane.npy\n",
      "Observation #: 20000\n",
      "label hot vectors #: 20000\n",
      "Processing alarm clock F:\\myProjects\\tim209\\filtered by category\\output\\alarm clock.npy\n",
      "Observation #: 20000\n",
      "label hot vectors #: 20000\n",
      "Processing ambulance F:\\myProjects\\tim209\\filtered by category\\output\\ambulance.npy\n",
      "Observation #: 20000\n",
      "label hot vectors #: 20000\n",
      "Processing angel F:\\myProjects\\tim209\\filtered by category\\output\\angel.npy\n",
      "Observation #: 20000\n",
      "label hot vectors #: 20000\n",
      "Processing animal migration F:\\myProjects\\tim209\\filtered by category\\output\\animal migration.npy\n",
      "Observation #: 20000\n",
      "label hot vectors #: 20000\n",
      "Processing ant F:\\myProjects\\tim209\\filtered by category\\output\\ant.npy\n",
      "Observation #: 20000\n",
      "label hot vectors #: 20000\n",
      "Processing anvil F:\\myProjects\\tim209\\filtered by category\\output\\anvil.npy\n",
      "Observation #: 20000\n",
      "label hot vectors #: 20000\n",
      "Processing apple F:\\myProjects\\tim209\\filtered by category\\output\\apple.npy\n",
      "Observation #: 20000\n",
      "label hot vectors #: 20000\n",
      "Processing arm F:\\myProjects\\tim209\\filtered by category\\output\\arm.npy\n",
      "Observation #: 20000\n",
      "label hot vectors #: 20000\n"
     ]
    }
   ],
   "source": [
    "dataUtils.process()"
   ]
  },
  {
   "cell_type": "code",
   "execution_count": 28,
   "metadata": {},
   "outputs": [
    {
     "name": "stdout",
     "output_type": "stream",
     "text": [
      "(200000, 784) (200000, 10) {'aircraft carrier': 0, 'airplane': 1, 'alarm clock': 2, 'ambulance': 3, 'angel': 4, 'animal migration': 5, 'ant': 6, 'anvil': 7, 'apple': 8, 'arm': 9}\n"
     ]
    }
   ],
   "source": [
    "(images, labels, classToLevels ) = dataUtils.getData()\n",
    "(imagesR, labelsR, classToLevelsR ) = dataUtils.getRandomizedData()\n",
    "images = dataUtils.reshapeDataForKeras( images )\n",
    "imagesR = dataUtils.reshapeDataForKeras( imagesR )"
   ]
  },
  {
   "cell_type": "code",
   "execution_count": 34,
   "metadata": {},
   "outputs": [
    {
     "name": "stdout",
     "output_type": "stream",
     "text": [
      "train X: (160000, 28, 28, 1)\n",
      "test X: (40000, 28, 28, 1)\n",
      "train Y: (160000, 10)\n",
      "test Y: (40000, 10)\n"
     ]
    }
   ],
   "source": [
    "\n",
    "doodleModels = DoodleModels(images, labels)"
   ]
  },
  {
   "cell_type": "code",
   "execution_count": 36,
   "metadata": {},
   "outputs": [
    {
     "name": "stdout",
     "output_type": "stream",
     "text": [
      "_________________________________________________________________\n",
      "Layer (type)                 Output Shape              Param #   \n",
      "=================================================================\n",
      "conv2d_16 (Conv2D)           (None, 26, 26, 16)        160       \n",
      "_________________________________________________________________\n",
      "max_pooling2d_4 (MaxPooling2 (None, 13, 13, 16)        0         \n",
      "_________________________________________________________________\n",
      "conv2d_17 (Conv2D)           (None, 11, 11, 32)        4640      \n",
      "_________________________________________________________________\n",
      "max_pooling2d_5 (MaxPooling2 (None, 5, 5, 32)          0         \n",
      "_________________________________________________________________\n",
      "conv2d_18 (Conv2D)           (None, 3, 3, 32)          9248      \n",
      "_________________________________________________________________\n",
      "flatten_1 (Flatten)          (None, 288)               0         \n",
      "_________________________________________________________________\n",
      "dense_1 (Dense)              (None, 32)                9248      \n",
      "_________________________________________________________________\n",
      "dense_2 (Dense)              (None, 10)                330       \n",
      "=================================================================\n",
      "Total params: 23,626\n",
      "Trainable params: 23,626\n",
      "Non-trainable params: 0\n",
      "_________________________________________________________________\n",
      "model name: basic CNN, 32\n"
     ]
    }
   ],
   "source": [
    "firstModel = doodleModels.getModel( 1 )\n",
    "print( \"model name:\", firstModel.name )"
   ]
  },
  {
   "cell_type": "code",
   "execution_count": 37,
   "metadata": {},
   "outputs": [
    {
     "name": "stdout",
     "output_type": "stream",
     "text": [
      "Epoch 1/3\n",
      "160000/160000 [==============================] - 14s 89us/step - loss: 1.1744 - categorical_accuracy: 0.6280\n",
      "Epoch 2/3\n",
      "160000/160000 [==============================] - 3s 21us/step - loss: 0.7248 - categorical_accuracy: 0.7824\n",
      "Epoch 3/3\n",
      "160000/160000 [==============================] - 3s 21us/step - loss: 0.5986 - categorical_accuracy: 0.8209\n",
      "40000/40000 [==============================] - 2s 41us/step\n"
     ]
    }
   ],
   "source": [
    "epochSize = 3\n",
    "batchSize = 500\n",
    "history, testLoss, testAcc = doodleModels.runModel( firstModel, epochSize, batchSize )"
   ]
  },
  {
   "cell_type": "code",
   "execution_count": null,
   "metadata": {},
   "outputs": [],
   "source": [
    "print (testLoss, testAcc)"
   ]
  },
  {
   "cell_type": "code",
   "execution_count": 38,
   "metadata": {},
   "outputs": [
    {
     "data": {
      "text/plain": [
       "<matplotlib.legend.Legend at 0x23a031ea080>"
      ]
     },
     "execution_count": 38,
     "metadata": {},
     "output_type": "execute_result"
    },
    {
     "data": {
      "image/png": "[encoded data removed]",
      "text/plain": [
       "<Figure size 432x288 with 1 Axes>"
      ]
     },
     "metadata": {
      "needs_background": "light"
     },
     "output_type": "display_data"
    }
   ],
   "source": [
    "epochX = np.arange(epochSize) + 1\n",
    "plt.close()\n",
    "plt.plot( epochX, history.history['categorical_accuracy'], color = \"blue\", label = \"accuracy\" )\n",
    "plt.plot( epochX, history.history['loss'], color = \"red\", label = \"loss\" )\n",
    "\n",
    "plt.title('Epoch vs Test')\n",
    "plt.xlabel( \"Epoch\" )\n",
    "plt.ylabel( \"amount\" )\n",
    "plt.xticks( epochX )\n",
    "plt.legend()"
   ]
  },
  {
   "cell_type": "code",
   "execution_count": 39,
   "metadata": {},
   "outputs": [
    {
     "name": "stdout",
     "output_type": "stream",
     "text": [
      "40000/40000 [==============================] - 2s 46us/step\n",
      "0.5543059148430824 0.835575\n"
     ]
    }
   ],
   "source": [
    "modelPath = modelDirectory + firstModel.name + \"e\" + str( epochSize ) + \"b\" + str( batchSize ) + \"_Pa.h5\"\n",
    "firstModel.save( modelPath )\n",
    "firstModelSaved = models.load_model( modelPath  )\n",
    "testLoss, testAcc = doodleModels.evaluateModel( firstModelSaved )\n",
    "print( testLoss, testAcc) "
   ]
  },
  {
   "cell_type": "code",
   "execution_count": 42,
   "metadata": {},
   "outputs": [
    {
     "data": {
      "text/plain": [
       "3"
      ]
     },
     "execution_count": 42,
     "metadata": {},
     "output_type": "execute_result"
    }
   ],
   "source": [
    "len( history.epoch )"
   ]
  },
  {
   "cell_type": "code",
   "execution_count": 43,
   "metadata": {},
   "outputs": [
    {
     "data": {
      "text/plain": [
       "[0, 1, 2]"
      ]
     },
     "execution_count": 43,
     "metadata": {},
     "output_type": "execute_result"
    }
   ],
   "source": [
    "firstModel.history.epoch"
   ]
  },
  {
   "cell_type": "code",
   "execution_count": null,
   "metadata": {},
   "outputs": [],
   "source": []
  }
 ],
 "metadata": {
  "kernelspec": {
   "display_name": "Python 3",
   "language": "python",
   "name": "python3"
  },
  "language_info": {
   "codemirror_mode": {
    "name": "ipython",
    "version": 3
   },
   "file_extension": ".py",
   "mimetype": "text/x-python",
   "name": "python",
   "nbconvert_exporter": "python",
   "pygments_lexer": "ipython3",
   "version": "3.6.6"
  }
 },
 "nbformat": 4,
 "nbformat_minor": 2
}
