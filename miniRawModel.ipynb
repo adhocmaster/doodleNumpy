{
 "cells": [
  {
   "cell_type": "code",
   "execution_count": 1,
   "metadata": {},
   "outputs": [
    {
     "name": "stderr",
     "output_type": "stream",
     "text": [
      "Using TensorFlow backend.\n",
      "WARNING:root:Keras dependencies loaded\n",
      "WARNING:root:dataUtils loaded\n",
      "WARNING:root:DoodleModels loaded\n"
     ]
    }
   ],
   "source": [
    "exec(open(\"initKeras.py\").read())"
   ]
  },
  {
   "cell_type": "code",
   "execution_count": 2,
   "metadata": {},
   "outputs": [],
   "source": [
    "# #data preparation\n",
    "inputDir = \"F:\\\\myProjects\\\\tim209\\\\filtered by category\\\\output\\\\*.npy\"\n",
    "dataUtils = dataUtils( inputDir )"
   ]
  },
  {
   "cell_type": "code",
   "execution_count": 3,
   "metadata": {},
   "outputs": [
    {
     "name": "stdout",
     "output_type": "stream",
     "text": [
      "Processing aircraft carrier F:\\myProjects\\tim209\\filtered by category\\output\\aircraft carrier.npy\n",
      "Observation #: 10000\n",
      "label hot vectors #: 10000\n",
      "Processing airplane F:\\myProjects\\tim209\\filtered by category\\output\\airplane.npy\n",
      "Observation #: 10000\n",
      "label hot vectors #: 10000\n",
      "Processing alarm clock F:\\myProjects\\tim209\\filtered by category\\output\\alarm clock.npy\n",
      "Observation #: 10000\n",
      "label hot vectors #: 10000\n",
      "Processing ambulance F:\\myProjects\\tim209\\filtered by category\\output\\ambulance.npy\n",
      "Observation #: 10000\n",
      "label hot vectors #: 10000\n",
      "Processing angel F:\\myProjects\\tim209\\filtered by category\\output\\angel.npy\n",
      "Observation #: 10000\n",
      "label hot vectors #: 10000\n",
      "Processing animal migration F:\\myProjects\\tim209\\filtered by category\\output\\animal migration.npy\n",
      "Observation #: 10000\n",
      "label hot vectors #: 10000\n",
      "Processing ant F:\\myProjects\\tim209\\filtered by category\\output\\ant.npy\n",
      "Observation #: 10000\n",
      "label hot vectors #: 10000\n",
      "Processing anvil F:\\myProjects\\tim209\\filtered by category\\output\\anvil.npy\n",
      "Observation #: 10000\n",
      "label hot vectors #: 10000\n",
      "Processing apple F:\\myProjects\\tim209\\filtered by category\\output\\apple.npy\n",
      "Observation #: 10000\n",
      "label hot vectors #: 10000\n",
      "Processing arm F:\\myProjects\\tim209\\filtered by category\\output\\arm.npy\n",
      "Observation #: 10000\n",
      "label hot vectors #: 10000\n"
     ]
    }
   ],
   "source": [
    "dataUtils.process()"
   ]
  },
  {
   "cell_type": "code",
   "execution_count": 4,
   "metadata": {},
   "outputs": [
    {
     "name": "stdout",
     "output_type": "stream",
     "text": [
      "(100000, 784) (100000, 10) {'aircraft carrier': 0, 'airplane': 1, 'alarm clock': 2, 'ambulance': 3, 'angel': 4, 'animal migration': 5, 'ant': 6, 'anvil': 7, 'apple': 8, 'arm': 9}\n"
     ]
    }
   ],
   "source": [
    "(images, labels, classToLevels ) = dataUtils.getData()\n",
    "(imagesR, labelsR, classToLevelsR ) = dataUtils.getRandomizedData()\n",
    "images = dataUtils.reshapeDataForKeras( images )\n",
    "imagesR = dataUtils.reshapeDataForKeras( imagesR )"
   ]
  },
  {
   "cell_type": "code",
   "execution_count": 5,
   "metadata": {},
   "outputs": [
    {
     "name": "stdout",
     "output_type": "stream",
     "text": [
      "train X: (80000, 28, 28, 1)\n",
      "test X: (20000, 28, 28, 1)\n",
      "train Y: (80000, 10)\n",
      "test Y: (20000, 10)\n"
     ]
    }
   ],
   "source": [
    "\n",
    "doodleModels = DoodleModels(images, labels)"
   ]
  },
  {
   "cell_type": "code",
   "execution_count": 6,
   "metadata": {},
   "outputs": [
    {
     "name": "stdout",
     "output_type": "stream",
     "text": [
      "_________________________________________________________________\n",
      "Layer (type)                 Output Shape              Param #   \n",
      "=================================================================\n",
      "conv2d_1 (Conv2D)            (None, 26, 26, 16)        160       \n",
      "_________________________________________________________________\n",
      "max_pooling2d_1 (MaxPooling2 (None, 13, 13, 16)        0         \n",
      "_________________________________________________________________\n",
      "conv2d_2 (Conv2D)            (None, 11, 11, 32)        4640      \n",
      "_________________________________________________________________\n",
      "max_pooling2d_2 (MaxPooling2 (None, 5, 5, 32)          0         \n",
      "_________________________________________________________________\n",
      "conv2d_3 (Conv2D)            (None, 3, 3, 32)          9248      \n",
      "_________________________________________________________________\n",
      "flatten_1 (Flatten)          (None, 288)               0         \n",
      "_________________________________________________________________\n",
      "dense_1 (Dense)              (None, 32)                9248      \n",
      "_________________________________________________________________\n",
      "dense_2 (Dense)              (None, 10)                330       \n",
      "=================================================================\n",
      "Total params: 23,626\n",
      "Trainable params: 23,626\n",
      "Non-trainable params: 0\n",
      "_________________________________________________________________\n",
      "Epoch 1/3\n",
      "80000/80000 [==============================] - 7s 92us/step - loss: 0.8945 - categorical_accuracy: 0.7210\n",
      "Epoch 2/3\n",
      "80000/80000 [==============================] - 5s 67us/step - loss: 0.5624 - categorical_accuracy: 0.8313\n",
      "Epoch 3/3\n",
      "80000/80000 [==============================] - 5s 67us/step - loss: 0.4787 - categorical_accuracy: 0.8575\n",
      "20000/20000 [==============================] - 1s 44us/step\n"
     ]
    },
    {
     "data": {
      "text/plain": [
       "(<keras.callbacks.History at 0x227465ff0f0>, 0.46169734843969346, 0.8656)"
      ]
     },
     "execution_count": 6,
     "metadata": {},
     "output_type": "execute_result"
    }
   ],
   "source": [
    "firstModel = doodleModels.getModel( 1 )\n",
    "doodleModels.runModel( firstModel, 3, 64 )"
   ]
  },
  {
   "cell_type": "code",
   "execution_count": 7,
   "metadata": {},
   "outputs": [
    {
     "name": "stdout",
     "output_type": "stream",
     "text": [
      "Epoch 1/3\n",
      "80000/80000 [==============================] - 5s 67us/step - loss: 0.4345 - categorical_accuracy: 0.8686\n",
      "Epoch 2/3\n",
      "80000/80000 [==============================] - 5s 66us/step - loss: 0.4046 - categorical_accuracy: 0.8763\n",
      "Epoch 3/3\n",
      "80000/80000 [==============================] - 5s 65us/step - loss: 0.3812 - categorical_accuracy: 0.8847\n",
      "20000/20000 [==============================] - 1s 42us/step\n"
     ]
    }
   ],
   "source": [
    "history, testError, testAcc = doodleModels.runModel( firstModel, 3, 64 )"
   ]
  },
  {
   "cell_type": "code",
   "execution_count": 8,
   "metadata": {},
   "outputs": [
    {
     "data": {
      "text/plain": [
       "{'loss': [0.43453845007419584, 0.4045583248376846, 0.3811506942808628],\n",
       " 'categorical_accuracy': [0.868625, 0.87635, 0.8846625]}"
      ]
     },
     "execution_count": 8,
     "metadata": {},
     "output_type": "execute_result"
    }
   ],
   "source": [
    "history.history"
   ]
  },
  {
   "cell_type": "code",
   "execution_count": null,
   "metadata": {},
   "outputs": [],
   "source": []
  }
 ],
 "metadata": {
  "kernelspec": {
   "display_name": "Python 3",
   "language": "python",
   "name": "python3"
  },
  "language_info": {
   "codemirror_mode": {
    "name": "ipython",
    "version": 3
   },
   "file_extension": ".py",
   "mimetype": "text/x-python",
   "name": "python",
   "nbconvert_exporter": "python",
   "pygments_lexer": "ipython3",
   "version": "3.6.6"
  }
 },
 "nbformat": 4,
 "nbformat_minor": 2
}
