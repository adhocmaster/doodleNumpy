{
 "cells": [
  {
   "cell_type": "code",
   "execution_count": 84,
   "metadata": {},
   "outputs": [
    {
     "name": "stdout",
     "output_type": "stream",
     "text": [
      "WARNING:root:Keras dependencies loaded\n"
     ]
    }
   ],
   "source": [
    "exec(open(\"initKeras.py\").read())"
   ]
  },
  {
   "cell_type": "code",
   "execution_count": 72,
   "metadata": {},
   "outputs": [
    {
     "name": "stdout",
     "output_type": "stream",
     "text": [
      "Processing aircraft carrier F:\\myProjects\\tim209\\filtered by category\\output\\aircraft carrier.npy\n",
      "Processing airplane F:\\myProjects\\tim209\\filtered by category\\output\\airplane.npy\n",
      "Processing alarm clock F:\\myProjects\\tim209\\filtered by category\\output\\alarm clock.npy\n",
      "Processing ambulance F:\\myProjects\\tim209\\filtered by category\\output\\ambulance.npy\n",
      "Processing angel F:\\myProjects\\tim209\\filtered by category\\output\\angel.npy\n",
      "Processing animal migration F:\\myProjects\\tim209\\filtered by category\\output\\animal migration.npy\n",
      "Processing ant F:\\myProjects\\tim209\\filtered by category\\output\\ant.npy\n",
      "Processing anvil F:\\myProjects\\tim209\\filtered by category\\output\\anvil.npy\n",
      "Processing apple F:\\myProjects\\tim209\\filtered by category\\output\\apple.npy\n",
      "Processing arm F:\\myProjects\\tim209\\filtered by category\\output\\arm.npy\n"
     ]
    }
   ],
   "source": [
    "# #data preparation\n",
    "inputDir = \"F:\\\\myProjects\\\\tim209\\\\filtered by category\\\\output\\\\*.npy\"\n",
    "\n",
    "files = glob.glob( inputDir )\n",
    "#print( files )\n",
    "\n",
    "numberOfLabels = len( files ) #each file has a unique label\n",
    "\n",
    "sources = list()\n",
    "labelLevelMap = {}\n",
    "i = 0\n",
    "for path in files:\n",
    "    \n",
    "    label = path.split( \"\\\\\" )[-1].replace( \".npy\", \"\" )\n",
    "    \n",
    "    sources.append( ( label, path ) )\n",
    "    \n",
    "    labelLevelMap[label] = i\n",
    "    i = i + 1\n",
    "\n",
    "labels = []\n",
    "images = []\n",
    "i = 0\n",
    "for ( label, path ) in sources:\n",
    "    \n",
    "    print( \"Processing\", label, path )\n",
    "    \n",
    "    labelData = np.load( path )\n",
    "    images.append( labelData )\n",
    "    \n",
    "    hotVector = np.array( [0] * numberOfLabels, np.float32 ) #must convert to 32 bit. by default it's 64\n",
    "    hotVector[i] = 1.0\n",
    "    i = i + 1\n",
    "    \n",
    "    hotVectors = [ hotVector ] * labelData.shape[0] #ndarray for single observations, list for all\n",
    "    labels.append( hotVectors )\n",
    "    \n",
    "images = np.vstack(images)\n",
    "labels = np.vstack( labels )\n",
    "    \n",
    "# inputDir = \"F:\\\\myProjects\\\\tim209\\\\filtered by category\\\\output\\\\\"\n",
    "# labels = []\n",
    "# images = []\n",
    "# for k, npy in enumerate([fn for fn in os.listdir(inputDir) if fn.endswith('.npy')]):\n",
    "#     d = np.load(os.path.join(inputDir, npy))\n",
    "#     subset = os.path.splitext(npy)[0]\n",
    "#     images.append(d)\n",
    "#     hot_vec = [0]*10\n",
    "#     hot_vec[k] = 1\n",
    "#     labels += [hot_vec]*d.shape[0]\n",
    "# images = np.vstack(images)\n",
    "\n",
    "    "
   ]
  },
  {
   "cell_type": "code",
   "execution_count": 58,
   "metadata": {},
   "outputs": [
    {
     "name": "stdout",
     "output_type": "stream",
     "text": [
      "[1. 0. 0. 0. 0. 0. 0. 0. 0. 0.]\n",
      "[0. 1. 0. 0. 0. 0. 0. 0. 0. 0.]\n",
      "[0. 0. 0. 1. 0. 0. 0. 0. 0. 0.]\n"
     ]
    }
   ],
   "source": [
    "\n",
    "print( labels[0] )\n",
    "print( labels[10000] )\n",
    "print( labels[30000] )\n",
    "#model 1\n",
    "model = models.Sequential()"
   ]
  },
  {
   "cell_type": "code",
   "execution_count": null,
   "metadata": {},
   "outputs": [],
   "source": []
  }
 ],
 "metadata": {
  "kernelspec": {
   "display_name": "Python 3",
   "language": "python",
   "name": "python3"
  },
  "language_info": {
   "codemirror_mode": {
    "name": "ipython",
    "version": 3
   },
   "file_extension": ".py",
   "mimetype": "text/x-python",
   "name": "python",
   "nbconvert_exporter": "python",
   "pygments_lexer": "ipython3",
   "version": "3.6.6"
  }
 },
 "nbformat": 4,
 "nbformat_minor": 2
}
