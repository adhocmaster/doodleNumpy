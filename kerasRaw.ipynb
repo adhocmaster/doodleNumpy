{
 "cells": [
  {
   "cell_type": "code",
   "execution_count": 123,
   "metadata": {},
   "outputs": [
    {
     "name": "stdout",
     "output_type": "stream",
     "text": [
      "WARNING:root:Keras dependencies loaded\n",
      "WARNING:root:dataUtils loaded\n"
     ]
    }
   ],
   "source": [
    "exec(open(\"initKeras.py\").read())"
   ]
  },
  {
   "cell_type": "code",
   "execution_count": 98,
   "metadata": {},
   "outputs": [
    {
     "name": "stdout",
     "output_type": "stream",
     "text": [
      "Processing aircraft carrier F:\\myProjects\\tim209\\filtered by category\\output\\aircraft carrier.npy\n",
      "Processing airplane F:\\myProjects\\tim209\\filtered by category\\output\\airplane.npy\n",
      "Processing alarm clock F:\\myProjects\\tim209\\filtered by category\\output\\alarm clock.npy\n",
      "Processing ambulance F:\\myProjects\\tim209\\filtered by category\\output\\ambulance.npy\n",
      "Processing angel F:\\myProjects\\tim209\\filtered by category\\output\\angel.npy\n",
      "Processing animal migration F:\\myProjects\\tim209\\filtered by category\\output\\animal migration.npy\n",
      "Processing ant F:\\myProjects\\tim209\\filtered by category\\output\\ant.npy\n",
      "Processing anvil F:\\myProjects\\tim209\\filtered by category\\output\\anvil.npy\n",
      "Processing apple F:\\myProjects\\tim209\\filtered by category\\output\\apple.npy\n",
      "Processing arm F:\\myProjects\\tim209\\filtered by category\\output\\arm.npy\n"
     ]
    }
   ],
   "source": [
    "# #data preparation\n",
    "inputDir = \"F:\\\\myProjects\\\\tim209\\\\filtered by category\\\\output\\\\*.npy\"\n",
    "\n",
    "files = glob.glob( inputDir )\n",
    "#print( files )\n",
    "\n",
    "numberOfLabels = len( files ) #each file has a unique label\n",
    "\n",
    "sources = list()\n",
    "labelLevelMap = {}\n",
    "i = 0\n",
    "for path in files:\n",
    "    \n",
    "    label = path.split( \"\\\\\" )[-1].replace( \".npy\", \"\" )\n",
    "    \n",
    "    sources.append( ( label, path ) )\n",
    "    \n",
    "    labelLevelMap[label] = i\n",
    "    i = i + 1\n",
    "\n",
    "labels = []\n",
    "images = []\n",
    "i = 0\n",
    "for ( label, path ) in sources:\n",
    "    \n",
    "    print( \"Processing\", label, path )\n",
    "    \n",
    "    labelData = np.load( path ).astype( np.float32 ) / 255\n",
    "    images.append( labelData )\n",
    "    \n",
    "    hotVector = np.array( [0] * numberOfLabels, np.float32 ) #must convert to 32 bit. by default it's 64\n",
    "    hotVector[i] = 1.0\n",
    "    i = i + 1\n",
    "    \n",
    "    hotVectors = [ hotVector ] * labelData.shape[0] #ndarray for single observations, list for all\n",
    "    labels.append( hotVectors )\n",
    "    \n",
    "images = np.vstack(images)\n",
    "labels = np.vstack( labels )\n",
    "    \n",
    "# inputDir = \"F:\\\\myProjects\\\\tim209\\\\filtered by category\\\\output\\\\\"\n",
    "# labels = []\n",
    "# images = []\n",
    "# for k, npy in enumerate([fn for fn in os.listdir(inputDir) if fn.endswith('.npy')]):\n",
    "#     d = np.load(os.path.join(inputDir, npy))\n",
    "#     subset = os.path.splitext(npy)[0]\n",
    "#     images.append(d)\n",
    "#     hot_vec = [0]*10\n",
    "#     hot_vec[k] = 1\n",
    "#     labels += [hot_vec]*d.shape[0]\n",
    "# images = np.vstack(images)\n",
    "\n",
    "    "
   ]
  },
  {
   "cell_type": "code",
   "execution_count": 108,
   "metadata": {},
   "outputs": [
    {
     "name": "stdout",
     "output_type": "stream",
     "text": [
      "[1. 0. 0. 0. 0. 0. 0. 0. 0. 0.]\n",
      "[0. 1. 0. 0. 0. 0. 0. 0. 0. 0.]\n",
      "[0. 0. 0. 1. 0. 0. 0. 0. 0. 0.]\n"
     ]
    }
   ],
   "source": [
    "\n",
    "print( labels[0] )\n",
    "print( labels[10000] )\n",
    "print( labels[30000] )\n",
    "\n",
    "np.random.seed = 0\n",
    "seq = np.arange( labels.shape[0] )\n",
    "np.random.shuffle( seq )\n",
    "side = int( math.sqrt( images.shape[1] ) )\n",
    "imagesR = images[ seq ].reshape( ( images.shape[0], side , side, 1  ) )\n",
    "labelsR = labels[seq]\n",
    "\n"
   ]
  },
  {
   "cell_type": "code",
   "execution_count": 109,
   "metadata": {},
   "outputs": [
    {
     "name": "stdout",
     "output_type": "stream",
     "text": [
      "_________________________________________________________________\n",
      "Layer (type)                 Output Shape              Param #   \n",
      "=================================================================\n",
      "conv2d_4 (Conv2D)            (None, 26, 26, 16)        160       \n",
      "_________________________________________________________________\n",
      "max_pooling2d_3 (MaxPooling2 (None, 13, 13, 16)        0         \n",
      "_________________________________________________________________\n",
      "conv2d_5 (Conv2D)            (None, 11, 11, 32)        4640      \n",
      "_________________________________________________________________\n",
      "max_pooling2d_4 (MaxPooling2 (None, 5, 5, 32)          0         \n",
      "_________________________________________________________________\n",
      "conv2d_6 (Conv2D)            (None, 3, 3, 32)          9248      \n",
      "=================================================================\n",
      "Total params: 14,048\n",
      "Trainable params: 14,048\n",
      "Non-trainable params: 0\n",
      "_________________________________________________________________\n"
     ]
    }
   ],
   "source": [
    "\n",
    "#model 1\n",
    "model = models.Sequential()\n",
    "model.add( layers.Conv2D( 16, (3,3), activation = activations.relu, input_shape = (28, 28, 1 ) ) )\n",
    "model.add( layers.MaxPooling2D( (2,2) ) )\n",
    "model.add( layers.Conv2D( 32, (3,3), activation = activations.relu ))\n",
    "model.add( layers.MaxPooling2D( (2,2) ) )\n",
    "model.add( layers.Conv2D( 32, (3,3), activation = activations.relu ))\n",
    "model.summary()"
   ]
  },
  {
   "cell_type": "code",
   "execution_count": 110,
   "metadata": {},
   "outputs": [],
   "source": [
    "model.add( layers.Flatten() )\n",
    "model.add( layers.Dense( 32, activation = activations.relu ) )\n",
    "model.add( layers.Dense( 10, activation = activations.softmax ) )\n"
   ]
  },
  {
   "cell_type": "code",
   "execution_count": 119,
   "metadata": {},
   "outputs": [],
   "source": [
    "trX, tsX, trY, tsY = train_test_split( imagesR, labelsR, test_size=0.2, random_state=42 )"
   ]
  },
  {
   "cell_type": "code",
   "execution_count": 126,
   "metadata": {},
   "outputs": [],
   "source": [
    "model.compile( optimizer = optimizers.rmsprop( lr = .001 ), \n",
    "             loss = losses.categorical_crossentropy,\n",
    "             metrics = [ metrics.categorical_accuracy ] )"
   ]
  },
  {
   "cell_type": "code",
   "execution_count": 128,
   "metadata": {},
   "outputs": [
    {
     "name": "stdout",
     "output_type": "stream",
     "text": [
      "Epoch 1/3\n",
      "80000/80000 [==============================] - 6s 70us/step - loss: 0.4366 - categorical_accuracy: 0.8679\n",
      "Epoch 2/3\n",
      "80000/80000 [==============================] - 6s 71us/step - loss: 0.4050 - categorical_accuracy: 0.8782\n",
      "Epoch 3/3\n",
      "80000/80000 [==============================] - 6s 70us/step - loss: 0.3830 - categorical_accuracy: 0.8841\n"
     ]
    },
    {
     "data": {
      "text/plain": [
       "<keras.callbacks.History at 0x1e0288c2710>"
      ]
     },
     "execution_count": 128,
     "metadata": {},
     "output_type": "execute_result"
    }
   ],
   "source": [
    "model.fit( trX, trY, epochs = 3, batch_size = 64 )"
   ]
  },
  {
   "cell_type": "code",
   "execution_count": null,
   "metadata": {},
   "outputs": [],
   "source": []
  }
 ],
 "metadata": {
  "kernelspec": {
   "display_name": "Python 3",
   "language": "python",
   "name": "python3"
  },
  "language_info": {
   "codemirror_mode": {
    "name": "ipython",
    "version": 3
   },
   "file_extension": ".py",
   "mimetype": "text/x-python",
   "name": "python",
   "nbconvert_exporter": "python",
   "pygments_lexer": "ipython3",
   "version": "3.6.6"
  }
 },
 "nbformat": 4,
 "nbformat_minor": 2
}
