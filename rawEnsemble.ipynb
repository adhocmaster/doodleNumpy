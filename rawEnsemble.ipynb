{
 "cells": [
  {
   "cell_type": "code",
   "execution_count": 1,
   "metadata": {},
   "outputs": [
    {
     "name": "stderr",
     "output_type": "stream",
     "text": [
      "Using TensorFlow backend.\n",
      "WARNING:root:Keras dependencies loaded\n",
      "WARNING:root:dataUtils loaded\n",
      "WARNING:root:DoodleModels loaded\n",
      "WARNING:root:ResNet loaded\n",
      "WARNING:root:ResnetBuilder loaded\n"
     ]
    }
   ],
   "source": [
    "exec(open(\"initKeras.py\").read())"
   ]
  },
  {
   "cell_type": "code",
   "execution_count": 2,
   "metadata": {},
   "outputs": [],
   "source": [
    "modelDirectory = \"F:\\\\myProjects\\\\tim209\\\\doodle\\\\savedModels\\\\*.h5\"\n",
    "ensembleDirectory =  \"F:\\\\myProjects\\\\tim209\\\\doodle\\\\savedModels\\\\ensembles\\\\\"\n",
    "\n",
    "#inputDir = \"F:\\\\myProjects\\\\tim209\\\\filtered by category\\\\output\\\\*.npy\"\n",
    "\n",
    "inputDir = \"C:\\\\tim209\\\\filtered by category\\\\output20k10\\\\*.npy\"\n",
    "dataUtils = dataUtils( inputDir )\n"
   ]
  },
  {
   "cell_type": "code",
   "execution_count": 3,
   "metadata": {},
   "outputs": [
    {
     "name": "stdout",
     "output_type": "stream",
     "text": [
      "Processing aircraft carrier C:\\tim209\\filtered by category\\output20k10\\aircraft carrier.npy\n",
      "Observation #: 20000\n",
      "label hot vectors #: 20000\n",
      "Processing airplane C:\\tim209\\filtered by category\\output20k10\\airplane.npy\n",
      "Observation #: 20000\n",
      "label hot vectors #: 20000\n",
      "Processing alarm clock C:\\tim209\\filtered by category\\output20k10\\alarm clock.npy\n",
      "Observation #: 20000\n",
      "label hot vectors #: 20000\n",
      "Processing ambulance C:\\tim209\\filtered by category\\output20k10\\ambulance.npy\n",
      "Observation #: 20000\n",
      "label hot vectors #: 20000\n",
      "Processing angel C:\\tim209\\filtered by category\\output20k10\\angel.npy\n",
      "Observation #: 20000\n",
      "label hot vectors #: 20000\n",
      "Processing animal migration C:\\tim209\\filtered by category\\output20k10\\animal migration.npy\n",
      "Observation #: 20000\n",
      "label hot vectors #: 20000\n",
      "Processing ant C:\\tim209\\filtered by category\\output20k10\\ant.npy\n",
      "Observation #: 20000\n",
      "label hot vectors #: 20000\n",
      "Processing anvil C:\\tim209\\filtered by category\\output20k10\\anvil.npy\n",
      "Observation #: 20000\n",
      "label hot vectors #: 20000\n",
      "Processing apple C:\\tim209\\filtered by category\\output20k10\\apple.npy\n",
      "Observation #: 20000\n",
      "label hot vectors #: 20000\n",
      "Processing arm C:\\tim209\\filtered by category\\output20k10\\arm.npy\n",
      "Observation #: 20000\n",
      "label hot vectors #: 20000\n",
      "(200000, 784) (200000, 10) {'aircraft carrier': 0, 'airplane': 1, 'alarm clock': 2, 'ambulance': 3, 'angel': 4, 'animal migration': 5, 'ant': 6, 'anvil': 7, 'apple': 8, 'arm': 9}\n"
     ]
    }
   ],
   "source": [
    "dataUtils.process()\n",
    "(images, labels, classToLevels ) = dataUtils.getData()\n",
    "(imagesR, labelsR, classToLevelsR ) = dataUtils.getRandomizedData()\n",
    "images = dataUtils.reshapeDataForKeras( images )\n",
    "imagesR = dataUtils.reshapeDataForKeras( imagesR )"
   ]
  },
  {
   "cell_type": "code",
   "execution_count": 4,
   "metadata": {},
   "outputs": [
    {
     "name": "stderr",
     "output_type": "stream",
     "text": [
      "WARNING:root:# of models found: 11\n"
     ]
    },
    {
     "name": "stdout",
     "output_type": "stream",
     "text": [
      "train X: (160000, 28, 28, 1)\n",
      "test X: (40000, 28, 28, 1)\n",
      "train Y: (160000, 10)\n",
      "test Y: (40000, 10)\n",
      "all_cnn_cat10_e15_b64_lr0-001__Pa\n",
      "basic_CNN__32_cat10_e15_b64_lr0-001__Pa\n",
      "basic_CNN__64__Dropout_0-2__L2_-01_cat10_e15_b64_lr0-001__Pa\n",
      "basic_CNN__64__Dropout_0-2_cat10_e15_b64_lr0-001__Pa\n",
      "basic_CNN__64__L2_-01_cat10_e15_b64_lr0-001__Pa\n",
      "basic_CNN__64_cat10_e15_b64_lr0-001__Pa\n",
      "build_resnet_18_cat10_e15_b64_lr0-001__Pa\n",
      "build_resnet_50_cat10_e15_b64_lr0-001__Pa\n",
      "conv_pool_cnn_reduced_cat10_e15_b64_lr0-001__Pa\n",
      "nin_cnn_cat10_e15_b64_lr0-001__Pa\n",
      "wideNet__128__Dropout_0-2_cat10_e15_b64_lr0-001__Pa\n"
     ]
    }
   ],
   "source": [
    "doodleModels = DoodleModels(images, labels)\n",
    "ensembleModel2 = doodleModels.ensembleModelDirectoryByAverageOutput( modelDirectory )"
   ]
  },
  {
   "cell_type": "code",
   "execution_count": 5,
   "metadata": {},
   "outputs": [
    {
     "name": "stdout",
     "output_type": "stream",
     "text": [
      "__________________________________________________________________________________________________\n",
      "Layer (type)                    Output Shape         Param #     Connected to                     \n",
      "==================================================================================================\n",
      "input_1 (InputLayer)            (None, 28, 28, 1)    0                                            \n",
      "__________________________________________________________________________________________________\n",
      "all_cnn_cat10_e15_b64_lr0-001__ (None, 10)           1368010     input_1[0][0]                    \n",
      "__________________________________________________________________________________________________\n",
      "basic_CNN__32_cat10_e15_b64_lr0 (None, 10)           23626       input_1[0][0]                    \n",
      "__________________________________________________________________________________________________\n",
      "basic_CNN__64__Dropout_0-2__L2_ (None, 10)           93322       input_1[0][0]                    \n",
      "__________________________________________________________________________________________________\n",
      "basic_CNN__64__Dropout_0-2_cat1 (None, 10)           93322       input_1[0][0]                    \n",
      "__________________________________________________________________________________________________\n",
      "basic_CNN__64__L2_-01_cat10_e15 (None, 10)           93322       input_1[0][0]                    \n",
      "__________________________________________________________________________________________________\n",
      "basic_CNN__64_cat10_e15_b64_lr0 (None, 10)           93322       input_1[0][0]                    \n",
      "__________________________________________________________________________________________________\n",
      "build_resnet_18_cat10_e15_b64_l (None, 10)           11186186    input_1[0][0]                    \n",
      "__________________________________________________________________________________________________\n",
      "build_resnet_50_cat10_e15_b64_l (None, 10)           23586570    input_1[0][0]                    \n",
      "__________________________________________________________________________________________________\n",
      "conv_pool_cnn_reduced_cat10_e15 (None, 10)           372106      input_1[0][0]                    \n",
      "__________________________________________________________________________________________________\n",
      "nin_cnn_cat10_e15_b64_lr0-001__ (None, 10)           108074      input_1[0][0]                    \n",
      "__________________________________________________________________________________________________\n",
      "wideNet__128__Dropout_0-2_cat10 (None, 10)           260234      input_1[0][0]                    \n",
      "__________________________________________________________________________________________________\n",
      "average_1 (Average)             (None, 10)           0           all_cnn_cat10_e15_b64_lr0-001__Pa\n",
      "                                                                 basic_CNN__32_cat10_e15_b64_lr0-0\n",
      "                                                                 basic_CNN__64__Dropout_0-2__L2_-0\n",
      "                                                                 basic_CNN__64__Dropout_0-2_cat10_\n",
      "                                                                 basic_CNN__64__L2_-01_cat10_e15_b\n",
      "                                                                 basic_CNN__64_cat10_e15_b64_lr0-0\n",
      "                                                                 build_resnet_18_cat10_e15_b64_lr0\n",
      "                                                                 build_resnet_50_cat10_e15_b64_lr0\n",
      "                                                                 conv_pool_cnn_reduced_cat10_e15_b\n",
      "                                                                 nin_cnn_cat10_e15_b64_lr0-001__Pa\n",
      "                                                                 wideNet__128__Dropout_0-2_cat10_e\n",
      "==================================================================================================\n",
      "Total params: 37,278,094\n",
      "Trainable params: 37,224,846\n",
      "Non-trainable params: 53,248\n",
      "__________________________________________________________________________________________________\n"
     ]
    }
   ],
   "source": [
    "ensembleModel2.summary()\n"
   ]
  },
  {
   "cell_type": "code",
   "execution_count": 6,
   "metadata": {},
   "outputs": [
    {
     "name": "stdout",
     "output_type": "stream",
     "text": [
      "train X: (160000, 28, 28, 1)\n",
      "test X: (40000, 28, 28, 1)\n",
      "train Y: (160000, 10)\n",
      "test Y: (40000, 10)\n",
      "0.918\n"
     ]
    }
   ],
   "source": [
    "doodleModels = DoodleModels(images, labels)\n",
    "testAcc = doodleModels.evaluateEnsemble( ensembleModel2 )\n",
    "print( testAcc) "
   ]
  },
  {
   "cell_type": "code",
   "execution_count": 7,
   "metadata": {},
   "outputs": [
    {
     "name": "stdout",
     "output_type": "stream",
     "text": [
      "train X: (160000, 28, 28, 1)\n",
      "test X: (40000, 28, 28, 1)\n",
      "train Y: (160000, 10)\n",
      "test Y: (40000, 10)\n",
      "saved frozen model at F:\\myProjects\\tim209\\doodle\\savedModels\\ensembles\\ensembleLr001Acc91.68Percent.h5\n"
     ]
    }
   ],
   "source": [
    "doodleModels = DoodleModels(images, labels)\n",
    "doodleModels.saveModelAndHistory( ensembleModel2, ensembleDirectory + \"ensembleLr001Acc91.68Percent.h5\" )"
   ]
  },
  {
   "cell_type": "code",
   "execution_count": null,
   "metadata": {},
   "outputs": [],
   "source": []
  }
 ],
 "metadata": {
  "kernelspec": {
   "display_name": "Python 3",
   "language": "python",
   "name": "python3"
  },
  "language_info": {
   "codemirror_mode": {
    "name": "ipython",
    "version": 3
   },
   "file_extension": ".py",
   "mimetype": "text/x-python",
   "name": "python",
   "nbconvert_exporter": "python",
   "pygments_lexer": "ipython3",
   "version": "3.6.6"
  }
 },
 "nbformat": 4,
 "nbformat_minor": 2
}
