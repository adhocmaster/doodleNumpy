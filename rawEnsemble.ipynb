{
 "cells": [
  {
   "cell_type": "code",
   "execution_count": 9,
   "metadata": {},
   "outputs": [
    {
     "name": "stderr",
     "output_type": "stream",
     "text": [
      "WARNING:root:Keras dependencies loaded\n",
      "WARNING:root:dataUtils loaded\n",
      "WARNING:root:DoodleModels loaded\n"
     ]
    }
   ],
   "source": [
    "exec(open(\"initKeras.py\").read())"
   ]
  },
  {
   "cell_type": "code",
   "execution_count": 10,
   "metadata": {},
   "outputs": [],
   "source": [
    "modelDirectory = \"F:\\\\myProjects\\\\tim209\\\\doodle\\\\savedModels\\\\*.h5\"\n",
    "ensembleDirectory =  \"F:\\\\myProjects\\\\tim209\\\\doodle\\\\savedModels\\\\ensembles\\\\\"\n",
    "\n",
    "inputDir = \"F:\\\\myProjects\\\\tim209\\\\filtered by category\\\\output\\\\*.npy\"\n",
    "dataUtils = dataUtils( inputDir )\n",
    "modelPaths = glob.glob( modelDirectory )\n"
   ]
  },
  {
   "cell_type": "code",
   "execution_count": 11,
   "metadata": {},
   "outputs": [
    {
     "name": "stdout",
     "output_type": "stream",
     "text": [
      "Processing aircraft carrier F:\\myProjects\\tim209\\filtered by category\\output\\aircraft carrier.npy\n",
      "Observation #: 20000\n",
      "label hot vectors #: 20000\n",
      "Processing airplane F:\\myProjects\\tim209\\filtered by category\\output\\airplane.npy\n",
      "Observation #: 20000\n",
      "label hot vectors #: 20000\n",
      "Processing alarm clock F:\\myProjects\\tim209\\filtered by category\\output\\alarm clock.npy\n",
      "Observation #: 20000\n",
      "label hot vectors #: 20000\n",
      "Processing ambulance F:\\myProjects\\tim209\\filtered by category\\output\\ambulance.npy\n",
      "Observation #: 20000\n",
      "label hot vectors #: 20000\n",
      "Processing angel F:\\myProjects\\tim209\\filtered by category\\output\\angel.npy\n",
      "Observation #: 20000\n",
      "label hot vectors #: 20000\n",
      "Processing animal migration F:\\myProjects\\tim209\\filtered by category\\output\\animal migration.npy\n",
      "Observation #: 20000\n",
      "label hot vectors #: 20000\n",
      "Processing ant F:\\myProjects\\tim209\\filtered by category\\output\\ant.npy\n",
      "Observation #: 20000\n",
      "label hot vectors #: 20000\n",
      "Processing anvil F:\\myProjects\\tim209\\filtered by category\\output\\anvil.npy\n",
      "Observation #: 20000\n",
      "label hot vectors #: 20000\n",
      "Processing apple F:\\myProjects\\tim209\\filtered by category\\output\\apple.npy\n",
      "Observation #: 20000\n",
      "label hot vectors #: 20000\n",
      "Processing arm F:\\myProjects\\tim209\\filtered by category\\output\\arm.npy\n",
      "Observation #: 20000\n",
      "label hot vectors #: 20000\n",
      "(200000, 784) (200000, 10) {'aircraft carrier': 0, 'airplane': 1, 'alarm clock': 2, 'ambulance': 3, 'angel': 4, 'animal migration': 5, 'ant': 6, 'anvil': 7, 'apple': 8, 'arm': 9}\n",
      "train X: (160000, 28, 28, 1)\n",
      "test X: (40000, 28, 28, 1)\n",
      "train Y: (160000, 10)\n",
      "test Y: (40000, 10)\n"
     ]
    }
   ],
   "source": [
    "dataUtils.process()\n",
    "(images, labels, classToLevels ) = dataUtils.getData()\n",
    "(imagesR, labelsR, classToLevelsR ) = dataUtils.getRandomizedData()\n",
    "images = dataUtils.reshapeDataForKeras( images )\n",
    "imagesR = dataUtils.reshapeDataForKeras( imagesR )\n",
    "doodleModels = DoodleModels(images, labels)"
   ]
  },
  {
   "cell_type": "code",
   "execution_count": 18,
   "metadata": {},
   "outputs": [
    {
     "name": "stderr",
     "output_type": "stream",
     "text": [
      "WARNING:root:# of models found: 2\n"
     ]
    },
    {
     "name": "stdout",
     "output_type": "stream",
     "text": [
      "firstModel_e10_b64_Pm\n",
      "firstModel_e20_b500_Pm\n"
     ]
    }
   ],
   "source": [
    "logging.warning( msg= \"# of models found: \" + str( len( modelPaths ) ) )\n",
    "unitModels = []\n",
    "for path in modelPaths:\n",
    "    modelName = dataUtils.getFileNameWithoutExtensionWindows( path )\n",
    "    print( modelName )\n",
    "    model = models.load_model( path )\n",
    "    model.name = modelName\n",
    "    unitModels.append( model )"
   ]
  },
  {
   "cell_type": "code",
   "execution_count": 19,
   "metadata": {},
   "outputs": [],
   "source": [
    "model_input = layers.Input(shape=unitModels[0].input_shape[1:]) # c*h*w\n",
    "ensembleModel = doodleModels.ensembleModelsByAverageOutput( unitModels )"
   ]
  },
  {
   "cell_type": "code",
   "execution_count": 20,
   "metadata": {},
   "outputs": [
    {
     "name": "stdout",
     "output_type": "stream",
     "text": [
      "__________________________________________________________________________________________________\n",
      "Layer (type)                    Output Shape         Param #     Connected to                     \n",
      "==================================================================================================\n",
      "input_4 (InputLayer)            (None, 28, 28, 1)    0                                            \n",
      "__________________________________________________________________________________________________\n",
      "firstModel_e10_b64_Pm (Sequenti (None, 10)           23626       input_4[0][0]                    \n",
      "__________________________________________________________________________________________________\n",
      "firstModel_e20_b500_Pm (Sequent (None, 10)           23626       input_4[0][0]                    \n",
      "__________________________________________________________________________________________________\n",
      "average_2 (Average)             (None, 10)           0           firstModel_e10_b64_Pm[1][0]      \n",
      "                                                                 firstModel_e20_b500_Pm[1][0]     \n",
      "==================================================================================================\n",
      "Total params: 47,252\n",
      "Trainable params: 47,252\n",
      "Non-trainable params: 0\n",
      "__________________________________________________________________________________________________\n"
     ]
    }
   ],
   "source": [
    "ensembleModel.summary()"
   ]
  },
  {
   "cell_type": "code",
   "execution_count": 22,
   "metadata": {},
   "outputs": [
    {
     "name": "stderr",
     "output_type": "stream",
     "text": [
      "WARNING:root:# of models found: 2\n"
     ]
    },
    {
     "name": "stdout",
     "output_type": "stream",
     "text": [
      "firstModel_e10_b64_Pm\n",
      "firstModel_e20_b500_Pm\n"
     ]
    }
   ],
   "source": [
    "\n",
    "ensembleModel2 = doodleModels.ensembleModelDirectoryByAverageOutput( modelDirectory )"
   ]
  },
  {
   "cell_type": "code",
   "execution_count": 23,
   "metadata": {},
   "outputs": [
    {
     "name": "stdout",
     "output_type": "stream",
     "text": [
      "__________________________________________________________________________________________________\n",
      "Layer (type)                    Output Shape         Param #     Connected to                     \n",
      "==================================================================================================\n",
      "input_5 (InputLayer)            (None, 28, 28, 1)    0                                            \n",
      "__________________________________________________________________________________________________\n",
      "firstModel_e10_b64_Pm (Sequenti (None, 10)           23626       input_5[0][0]                    \n",
      "__________________________________________________________________________________________________\n",
      "firstModel_e20_b500_Pm (Sequent (None, 10)           23626       input_5[0][0]                    \n",
      "__________________________________________________________________________________________________\n",
      "average_3 (Average)             (None, 10)           0           firstModel_e10_b64_Pm[1][0]      \n",
      "                                                                 firstModel_e20_b500_Pm[1][0]     \n",
      "==================================================================================================\n",
      "Total params: 47,252\n",
      "Trainable params: 47,252\n",
      "Non-trainable params: 0\n",
      "__________________________________________________________________________________________________\n"
     ]
    }
   ],
   "source": [
    "ensembleModel2.summary()"
   ]
  },
  {
   "cell_type": "code",
   "execution_count": null,
   "metadata": {},
   "outputs": [],
   "source": []
  },
  {
   "cell_type": "code",
   "execution_count": null,
   "metadata": {},
   "outputs": [],
   "source": []
  }
 ],
 "metadata": {
  "kernelspec": {
   "display_name": "Python 3",
   "language": "python",
   "name": "python3"
  },
  "language_info": {
   "codemirror_mode": {
    "name": "ipython",
    "version": 3
   },
   "file_extension": ".py",
   "mimetype": "text/x-python",
   "name": "python",
   "nbconvert_exporter": "python",
   "pygments_lexer": "ipython3",
   "version": "3.6.6"
  }
 },
 "nbformat": 4,
 "nbformat_minor": 2
}
