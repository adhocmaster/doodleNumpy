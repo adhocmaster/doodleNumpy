{
 "cells": [
  {
   "cell_type": "code",
   "execution_count": 9,
   "metadata": {},
   "outputs": [
    {
     "name": "stderr",
     "output_type": "stream",
     "text": [
      "WARNING:root:Keras dependencies loaded\n",
      "WARNING:root:dataUtils loaded\n",
      "WARNING:root:DoodleModels loaded\n"
     ]
    }
   ],
   "source": [
    "exec(open(\"initKeras.py\").read())"
   ]
  },
  {
   "cell_type": "code",
   "execution_count": 10,
   "metadata": {},
   "outputs": [],
   "source": [
    "# model numbers to retrain, set to false or blank if you want to retrain all the models in DoodleModels. Strictly a list of integers\n",
    "trainOnlyModels = []\n",
    "saveModels = True\n",
    "# #data preparation\n",
    "inputDir = \"C:\\\\tim209\\\\filtered by category\\\\output20k10\\\\*.npy\"\n",
    "modelDirectory = \"F:\\\\myProjects\\\\tim209\\\\doodle\\\\savedModels\\\\\"\n",
    "modelGraphDirectory = \"F:\\\\myProjects\\\\tim209\\\\doodle\\\\experiment results\\\\\""
   ]
  },
  {
   "cell_type": "code",
   "execution_count": 11,
   "metadata": {},
   "outputs": [
    {
     "name": "stdout",
     "output_type": "stream",
     "text": [
      "Processing aircraft carrier C:\\tim209\\filtered by category\\output10k10\\aircraft carrier.npy\n",
      "Observation #: 20000\n",
      "label hot vectors #: 20000\n",
      "Processing airplane C:\\tim209\\filtered by category\\output10k10\\airplane.npy\n",
      "Observation #: 20000\n",
      "label hot vectors #: 20000\n",
      "Processing alarm clock C:\\tim209\\filtered by category\\output10k10\\alarm clock.npy\n",
      "Observation #: 20000\n",
      "label hot vectors #: 20000\n",
      "Processing ambulance C:\\tim209\\filtered by category\\output10k10\\ambulance.npy\n",
      "Observation #: 20000\n",
      "label hot vectors #: 20000\n",
      "Processing angel C:\\tim209\\filtered by category\\output10k10\\angel.npy\n",
      "Observation #: 20000\n",
      "label hot vectors #: 20000\n",
      "Processing animal migration C:\\tim209\\filtered by category\\output10k10\\animal migration.npy\n",
      "Observation #: 20000\n",
      "label hot vectors #: 20000\n",
      "Processing ant C:\\tim209\\filtered by category\\output10k10\\ant.npy\n",
      "Observation #: 20000\n",
      "label hot vectors #: 20000\n",
      "Processing anvil C:\\tim209\\filtered by category\\output10k10\\anvil.npy\n",
      "Observation #: 20000\n",
      "label hot vectors #: 20000\n",
      "Processing apple C:\\tim209\\filtered by category\\output10k10\\apple.npy\n",
      "Observation #: 20000\n",
      "label hot vectors #: 20000\n",
      "Processing arm C:\\tim209\\filtered by category\\output10k10\\arm.npy\n",
      "Observation #: 20000\n",
      "label hot vectors #: 20000\n",
      "(200000, 784) (200000, 10) {'aircraft carrier': 0, 'airplane': 1, 'alarm clock': 2, 'ambulance': 3, 'angel': 4, 'animal migration': 5, 'ant': 6, 'anvil': 7, 'apple': 8, 'arm': 9}\n"
     ]
    }
   ],
   "source": [
    "dataUtils = dataUtils( inputDir )\n",
    "dataUtils.process()\n",
    "(images, labels, classToLevels ) = dataUtils.getData()\n",
    "(imagesR, labelsR, classToLevelsR ) = dataUtils.getRandomizedData()\n",
    "images = dataUtils.reshapeDataForKeras( images )\n",
    "imagesR = dataUtils.reshapeDataForKeras( imagesR )"
   ]
  },
  {
   "cell_type": "code",
   "execution_count": 12,
   "metadata": {},
   "outputs": [
    {
     "data": {
      "text/plain": [
       "10"
      ]
     },
     "execution_count": 12,
     "metadata": {},
     "output_type": "execute_result"
    }
   ],
   "source": [
    "categoriesLen = labels.shape[1]\n",
    "categoriesLen"
   ]
  },
  {
   "cell_type": "code",
   "execution_count": 6,
   "metadata": {},
   "outputs": [
    {
     "name": "stdout",
     "output_type": "stream",
     "text": [
      "train X: (160000, 28, 28, 1)\n",
      "test X: (40000, 28, 28, 1)\n",
      "train Y: (160000, 10)\n",
      "test Y: (40000, 10)\n"
     ]
    }
   ],
   "source": [
    "doodleModels = DoodleModels(images, labels)"
   ]
  },
  {
   "cell_type": "code",
   "execution_count": 8,
   "metadata": {},
   "outputs": [
    {
     "name": "stdout",
     "output_type": "stream",
     "text": [
      "_________________________________________________________________\n",
      "Layer (type)                 Output Shape              Param #   \n",
      "=================================================================\n",
      "conv2d_1 (Conv2D)            (None, 26, 26, 16)        160       \n",
      "_________________________________________________________________\n",
      "max_pooling2d_1 (MaxPooling2 (None, 13, 13, 16)        0         \n",
      "_________________________________________________________________\n",
      "conv2d_2 (Conv2D)            (None, 11, 11, 32)        4640      \n",
      "_________________________________________________________________\n",
      "max_pooling2d_2 (MaxPooling2 (None, 5, 5, 32)          0         \n",
      "_________________________________________________________________\n",
      "conv2d_3 (Conv2D)            (None, 3, 3, 32)          9248      \n",
      "_________________________________________________________________\n",
      "flatten_1 (Flatten)          (None, 288)               0         \n",
      "_________________________________________________________________\n",
      "dense_1 (Dense)              (None, 32)                9248      \n",
      "_________________________________________________________________\n",
      "dense_2 (Dense)              (None, 10)                330       \n",
      "=================================================================\n",
      "Total params: 23,626\n",
      "Trainable params: 23,626\n",
      "Non-trainable params: 0\n",
      "_________________________________________________________________\n",
      "40000/40000 [==============================] - 12s 310us/step\n"
     ]
    },
    {
     "ename": "AttributeError",
     "evalue": "'Sequential' object has no attribute 'history'",
     "output_type": "error",
     "traceback": [
      "\u001b[1;31m---------------------------------------------------------------------------\u001b[0m",
      "\u001b[1;31mAttributeError\u001b[0m                            Traceback (most recent call last)",
      "\u001b[1;32m<ipython-input-8-40d7ca8c522c>\u001b[0m in \u001b[0;36m<module>\u001b[1;34m()\u001b[0m\n\u001b[0;32m     13\u001b[0m     \u001b[0mmodel\u001b[0m \u001b[1;33m=\u001b[0m \u001b[0mdoodleModels\u001b[0m\u001b[1;33m.\u001b[0m\u001b[0mgetModel\u001b[0m\u001b[1;33m(\u001b[0m \u001b[0mmodelNo\u001b[0m \u001b[1;33m)\u001b[0m\u001b[1;33m\u001b[0m\u001b[0m\n\u001b[0;32m     14\u001b[0m     \u001b[0mtestLoss\u001b[0m\u001b[1;33m,\u001b[0m \u001b[0mtestAcc\u001b[0m \u001b[1;33m=\u001b[0m \u001b[0mdoodleModels\u001b[0m\u001b[1;33m.\u001b[0m\u001b[0mevaluateModel\u001b[0m\u001b[1;33m(\u001b[0m \u001b[0mmodel\u001b[0m \u001b[1;33m)\u001b[0m\u001b[1;33m\u001b[0m\u001b[0m\n\u001b[1;32m---> 15\u001b[1;33m     \u001b[0mhistories\u001b[0m\u001b[1;33m.\u001b[0m\u001b[0mappend\u001b[0m\u001b[1;33m(\u001b[0m \u001b[1;33m(\u001b[0m \u001b[0mmodel\u001b[0m\u001b[1;33m,\u001b[0m \u001b[0mmodel\u001b[0m\u001b[1;33m.\u001b[0m\u001b[0mhistory\u001b[0m\u001b[1;33m,\u001b[0m \u001b[0mtestLoss\u001b[0m\u001b[1;33m,\u001b[0m \u001b[0mtestAcc\u001b[0m \u001b[1;33m)\u001b[0m \u001b[1;33m)\u001b[0m\u001b[1;33m\u001b[0m\u001b[0m\n\u001b[0m\u001b[0;32m     16\u001b[0m \u001b[1;33m\u001b[0m\u001b[0m\n\u001b[0;32m     17\u001b[0m     \u001b[1;31m#3 save model performance plot\u001b[0m\u001b[1;33m\u001b[0m\u001b[1;33m\u001b[0m\u001b[0m\n",
      "\u001b[1;31mAttributeError\u001b[0m: 'Sequential' object has no attribute 'history'"
     ]
    }
   ],
   "source": [
    "histories = []\n",
    "suffixFile = \"_cat\" + str( categoriesLen ) + \"_e\" + str( epochSize ) + \"_b\" + str( batchSize )\n",
    "for i in range(5):\n",
    "    \n",
    "    modelNo = i + 1\n",
    "    \n",
    "    #1 filter if needed\n",
    "    if type( trainOnlyModels ) == list and len( trainOnlyModels ) > 0 and modelNo not in trainOnlyModels:\n",
    "        print( \"Skipping model #\", modelNo )\n",
    "        continue\n",
    "        \n",
    "    #2 get and train model\n",
    "    model = doodleModels.getModel( modelNo )\n",
    "    testLoss, testAcc = doodleModels.evaluateModel( model )\n",
    "    histories.append( ( model, model.history, testLoss, testAcc ) )\n",
    "    \n",
    "    #3 save model performance plot\n",
    "    plotSavePath = modelGraphDirectory + model.name + suffixFile + \".png\"\n",
    "    doodleModels.plotModelTrainPerformance( model, plotSavePath )\n",
    "    \n",
    "    #4 save trained model\n",
    "    if saveModels == True:\n",
    "        modelPath = modelDirectory + model.name + suffixFile + \".h5\"\n",
    "        doodleModels.saveModelAndHistory( model, modelPath )\n"
   ]
  },
  {
   "cell_type": "code",
   "execution_count": null,
   "metadata": {},
   "outputs": [],
   "source": [
    "#print all model graph\n",
    "plt.close()\n",
    "colorPalette = sns.color_palette(\"hls\", len( histories ) )\n",
    "colorIndex = 0\n",
    "for ( model, history, testLoss, testAcc ) in histories:\n",
    "    epochX = np.arange( len( history.epoch ) ) + 1\n",
    "    plt.figure( figsize= (4 ,4))\n",
    "    plt.plot( epochX, history.history['categorical_accuracy'], color = colorPalette[ colorIndex] , label = model.name + \" - accuracy\" )\n",
    "    plt.plot( epochX, history.history['loss'], color = colorPalette[ colorIndex], label = model.name + \" - loss\", linestyle = '--' )\n",
    "\n",
    "    plt.title( 'Epoch vs Test - All Models' )\n",
    "    plt.xlabel( \"Epoch\" )\n",
    "    plt.ylabel( \"amount\" )\n",
    "    plt.xticks( epochX )\n",
    "    plt.legend()\n",
    "    colorIndex = colorIndex + 1\n",
    "\n",
    "plt.savefig( modelGraphDirectory + \"all-models-\" + datetime.now().strftime( \"%Y-%M-%d %Hh%Mm%Ss\" ) )"
   ]
  }
 ],
 "metadata": {
  "kernelspec": {
   "display_name": "Python 3",
   "language": "python",
   "name": "python3"
  },
  "language_info": {
   "codemirror_mode": {
    "name": "ipython",
    "version": 3
   },
   "file_extension": ".py",
   "mimetype": "text/x-python",
   "name": "python",
   "nbconvert_exporter": "python",
   "pygments_lexer": "ipython3",
   "version": "3.6.6"
  }
 },
 "nbformat": 4,
 "nbformat_minor": 2
}
